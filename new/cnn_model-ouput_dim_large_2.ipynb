{
 "cells": [
  {
   "cell_type": "code",
   "execution_count": 3,
   "metadata": {},
   "outputs": [
    {
     "name": "stdout",
     "output_type": "stream",
     "text": [
      "(None, 25, 25, 32)\n",
      "Ok ....\n"
     ]
    }
   ],
   "source": [
    "from keras.layers import Flatten, Conv3D, Activation , Dense, AveragePooling3D, MaxPooling3D , Dropout, Conv2D, MaxPooling2D\n",
    "from keras.models import Sequential\n",
    "from utils import *\n",
    "from keras.utils import plot_model\n",
    "\n",
    "model = Sequential()\n",
    "# ------------- start convolution layer ------------------\n",
    "L = Conv2D(64,[4,4], data_format='channels_last', activation = 'relu', input_shape=(32,32,5))\n",
    "model.add(L)\n",
    "\n",
    "\n",
    "P = MaxPooling2D(pool_size=(2, 2), strides=1, padding='valid', data_format='channels_last')    \n",
    "model.add(P)\n",
    "\n",
    "L1 = Conv2D(32,[3,3], data_format='channels_last', activation = 'relu')\n",
    "model.add(L1)\n",
    "\n",
    "P1 = MaxPooling2D(pool_size=(2, 2), strides=1, padding='valid', data_format='channels_last')    \n",
    "model.add(P1)\n",
    "\n",
    "\"\"\"\n",
    "L2 = Conv2D(64,[3,3], data_format='channels_last', activation = 'relu')\n",
    "model.add(L2)\n",
    "\n",
    "P2 = MaxPooling2D(pool_size=(2, 2), strides=1, padding='valid', data_format='channels_last')    \n",
    "model.add(P2)\n",
    "\n",
    "\n",
    "\n",
    "L3 = Conv2D(64,[2,2], data_format='channels_last', activation = 'relu')\n",
    "model.add(L3)\n",
    "\n",
    "P3 = MaxPooling2D(pool_size=(2, 2), strides=1, padding='valid', data_format='channels_last')    \n",
    "model.add(P3) \"\"\"\n",
    "\n",
    "print(model.output_shape)\n",
    "size = model.output_shape\n",
    "# -------------- start fully connected -------------------\n",
    "\n",
    "model.add(Flatten())\n",
    "model = model_nn(model, size[1]*size[2]*size[3], 5, dropout=0.3, batch_normalization=True, activation='relu', neurons_decay=0, starting_power=1, l2=10**-5, compile_model=True, trainable=True)\n",
    "model.compile(loss=rmse_loss_keras, optimizer=keras.optimizers.Adam(), metrics=['accuracy'])\n",
    "#plot_model(model, to_file='model.png')\n",
    "#print(model.output_shape)\n",
    "print(\"Ok ....\")"
   ]
  },
  {
   "cell_type": "code",
   "execution_count": null,
   "metadata": {},
   "outputs": [
    {
     "name": "stdout",
     "output_type": "stream",
     "text": [
      "Un objet de moins\n"
     ]
    }
   ],
   "source": [
    "batch_size = 10#128\n",
    "data = '../data/csvs/galaxies/all1_.csv';\n",
    "dir_img = '../data/images/galaxies1/all'\n",
    "\n",
    "X_Train, Y_Train, X_Test, Y_Test, X_Valid, Y_Valid = get_train_test_valid_data_galaxy(data,dir_img,test_size=0.4, valid_size = 0.5)\n",
    "\n",
    "history = model.fit(X_Train, Y_Train, validation_data=(X_Valid, Y_Valid), epochs=10, batch_size=batch_size, verbose=1)\n",
    "\n",
    "save_model(model, './model.json')\n",
    "\n",
    "plot_history(history);\n"
   ]
  },
  {
   "cell_type": "code",
   "execution_count": 9,
   "metadata": {
    "scrolled": true
   },
   "outputs": [
    {
     "data": {
      "text/plain": [
       "RMSE_znorm            0.095870\n",
       "bias_znorm            0.086084\n",
       "std_znorm             0.086084\n",
       "RMSE                  0.116953\n",
       "|znorm| > 0.15 (%)    8.333333\n",
       "|znorm| > 3std (%)    1.568627\n",
       "Name: Redshift, dtype: float64"
      ]
     },
     "execution_count": 9,
     "metadata": {},
     "output_type": "execute_result"
    }
   ],
   "source": [
    "predict = model.predict(X_Test, batch_size=batch_size).reshape(-1)\n",
    "result = compute_metrics(Y_Test, predict, 'Redshift')     \n",
    "result"
   ]
  },
  {
   "cell_type": "code",
   "execution_count": null,
   "metadata": {
    "collapsed": true,
    "scrolled": false
   },
   "outputs": [],
   "source": []
  },
  {
   "cell_type": "code",
   "execution_count": 2,
   "metadata": {
    "collapsed": true
   },
   "outputs": [],
   "source": [
    "#plot_quality(y_test, predict, object_class_test)"
   ]
  },
  {
   "cell_type": "code",
   "execution_count": 3,
   "metadata": {
    "collapsed": true
   },
   "outputs": [],
   "source": [
    "#dir_ = '../data/csvs/galaxies/'\n",
    "#path1 = dir_+'all1.csv'\n",
    "#path2 = dir_+'g.csv'\n",
    "#comp = 0;\n",
    "#with open(path1) as f:\n",
    "#   with open(path2,'w') as p2:\n",
    " #       p2.write('')\n",
    "  #  with open(path2,'a') as p2:\n",
    "   #     for a in f.readlines():\n",
    "    #        p2.write(a)\n",
    "     #       if (comp == 2600):\n",
    "      #          break;\n",
    "       #     else:\n",
    "        #        comp = comp + 1"
   ]
  },
  {
   "cell_type": "code",
   "execution_count": 4,
   "metadata": {
    "collapsed": true
   },
   "outputs": [],
   "source": [
    "#print(32*32*5)"
   ]
  },
  {
   "cell_type": "code",
   "execution_count": 5,
   "metadata": {
    "collapsed": true
   },
   "outputs": [],
   "source": [
    "#import os\n",
    "#os.path.join('../data/object_images/', str(int(values['objid'])))\n",
    "#print(os.path.join('../data/','aaa'))"
   ]
  },
  {
   "cell_type": "code",
   "execution_count": null,
   "metadata": {
    "collapsed": true
   },
   "outputs": [],
   "source": []
  },
  {
   "cell_type": "code",
   "execution_count": null,
   "metadata": {
    "collapsed": true
   },
   "outputs": [],
   "source": []
  },
  {
   "cell_type": "code",
   "execution_count": null,
   "metadata": {
    "collapsed": true
   },
   "outputs": [],
   "source": []
  },
  {
   "cell_type": "code",
   "execution_count": null,
   "metadata": {
    "collapsed": true
   },
   "outputs": [],
   "source": []
  },
  {
   "cell_type": "code",
   "execution_count": null,
   "metadata": {
    "collapsed": true
   },
   "outputs": [],
   "source": []
  },
  {
   "cell_type": "code",
   "execution_count": null,
   "metadata": {
    "collapsed": true
   },
   "outputs": [],
   "source": []
  },
  {
   "cell_type": "code",
   "execution_count": null,
   "metadata": {
    "collapsed": true
   },
   "outputs": [],
   "source": []
  },
  {
   "cell_type": "code",
   "execution_count": null,
   "metadata": {
    "collapsed": true
   },
   "outputs": [],
   "source": []
  },
  {
   "cell_type": "code",
   "execution_count": null,
   "metadata": {
    "collapsed": true
   },
   "outputs": [],
   "source": []
  },
  {
   "cell_type": "code",
   "execution_count": 18,
   "metadata": {},
   "outputs": [
    {
     "name": "stdout",
     "output_type": "stream",
     "text": [
      "40320\n"
     ]
    }
   ],
   "source": [
    "def fact(n):\n",
    "    try:\n",
    "        n = int(n);\n",
    "        if n<2:\n",
    "            return 1\n",
    "        else:\n",
    "            return n*fact(n-1)\n",
    "    except:\n",
    "        print('not integer')\n",
    "print(fact(8))"
   ]
  },
  {
   "cell_type": "code",
   "execution_count": 20,
   "metadata": {
    "collapsed": true
   },
   "outputs": [],
   "source": [
    "b='1237648704586646138'\n",
    "path = '../data/csvs/galaxies/all1.csv'\n",
    "dest = '../data/csvs/galaxies/all1_1.csv'\n",
    "v = False\n",
    "with open(path,'r') as f:\n",
    "    with open(dest,'a') as d:\n",
    "        d.write(f.readline())\n",
    "        for a in f.readlines():\n",
    "            if v:\n",
    "                d.write(a)\n",
    "            if v or a.startswith(b):\n",
    "                v = True"
   ]
  },
  {
   "cell_type": "code",
   "execution_count": 11,
   "metadata": {},
   "outputs": [
    {
     "name": "stdout",
     "output_type": "stream",
     "text": [
      "256\n"
     ]
    }
   ],
   "source": [
    "print(pow(16,2))"
   ]
  },
  {
   "cell_type": "code",
   "execution_count": null,
   "metadata": {
    "collapsed": true
   },
   "outputs": [],
   "source": []
  }
 ],
 "metadata": {
  "kernelspec": {
   "display_name": "Python 3",
   "language": "python",
   "name": "python3"
  }
 },
 "nbformat": 4,
 "nbformat_minor": 2
}
