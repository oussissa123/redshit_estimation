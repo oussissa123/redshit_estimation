{
 "cells": [
  {
   "cell_type": "code",
   "execution_count": 16,
   "metadata": {},
   "outputs": [
    {
     "name": "stdout",
     "output_type": "stream",
     "text": [
      "Ok ....\n"
     ]
    }
   ],
   "source": [
    "from keras.layers import Flatten, Conv3D, Activation , Dense, AveragePooling3D, MaxPooling3D , Dropout, Conv2D, MaxPooling2D\n",
    "from keras.models import Sequential\n",
    "from utils import *\n",
    "from keras.utils import plot_model\n",
    "\n",
    "model = Sequential()\n",
    "# ------------- start convolution layer ------------------\n",
    "L = Conv2D(24,[4,4], data_format='channels_last', activation = 'relu', input_shape=(32,32,5))\n",
    "model.add(L)\n",
    "\n",
    "\n",
    "P = MaxPooling2D(pool_size=(2, 2), strides=1, padding='valid', data_format='channels_last')    \n",
    "model.add(P)\n",
    "\n",
    "L1 = Conv2D(6,[3,3], data_format='channels_last', activation = 'relu')\n",
    "model.add(L1)\n",
    "\n",
    "P1 = MaxPooling2D(pool_size=(2, 2), strides=1, padding='valid', data_format='channels_last')    \n",
    "model.add(P1)\n",
    "\n",
    "\n",
    "L2 = Conv2D(6,[3,3], data_format='channels_last', activation = 'relu')\n",
    "model.add(L2)\n",
    "\n",
    "P2 = MaxPooling2D(pool_size=(2, 2), strides=1, padding='valid', data_format='channels_last')    \n",
    "model.add(P2)\n",
    "\n",
    "\n",
    "\n",
    "L3 = Conv2D(2,[2,2], data_format='channels_last', activation = 'relu')\n",
    "model.add(L3)\n",
    "\n",
    "P3 = MaxPooling2D(pool_size=(2, 2), strides=1, padding='valid', data_format='channels_last')    \n",
    "model.add(P3)\n",
    "\n",
    "\n",
    "\n",
    "# -------------- start fully connected -------------------\n",
    "\n",
    "model.add(Flatten())\n",
    "model = model_nn(model, 20*20*2, 5, dropout=0.3, batch_normalization=True, activation='relu', neurons_decay=0, starting_power=1, l2=10**-5, compile_model=True, trainable=True)\n",
    "model.compile(loss=rmse_loss_keras, optimizer=keras.optimizers.Adam(), metrics=['accuracy'])\n",
    "#plot_model(model, to_file='model.png')\n",
    "#print(model.output_shape)\n",
    "print(\"Ok ....\")"
   ]
  },
  {
   "cell_type": "code",
   "execution_count": 17,
   "metadata": {},
   "outputs": [
    {
     "name": "stdout",
     "output_type": "stream",
     "text": [
      "Un objet de moins\n",
      "Un objet de moins\n",
      "Un objet de moins\n",
      "Un objet de moins\n",
      "Un objet de moins\n",
      "Un objet de moins\n",
      "Un objet de moins\n",
      "Un objet de moins\n",
      "Un objet de moins\n",
      "Un objet de moins\n",
      "Un objet de moins\n",
      "Un objet de moins\n",
      "Un objet de moins\n",
      "Un objet de moins\n",
      "Un objet de moins\n",
      "Un objet de moins\n",
      "Un objet de moins\n",
      "Un objet de moins\n",
      "Un objet de moins\n",
      "Un objet de moins\n",
      "Un objet de moins\n",
      "Un objet de moins\n",
      "-------------- Data loading ok -----------\n",
      "     perte =  22\n",
      "1237648702973673741\n",
      "1237648702985404770\n",
      "1237648702986518724\n",
      "1237648702986912122\n",
      "1237648702987632847\n",
      "1237648703509233785\n",
      "1237648703509758382\n",
      "1237648703510413552\n",
      "1237648703510413633\n",
      "1237648703512117332\n",
      "1237648703513428338\n",
      "1237648703515066594\n",
      "1237648703521030539\n",
      "1237648704047022301\n",
      "1237648704049578410\n",
      "1237648704057704989\n",
      "1237648704581599552\n",
      "1237648704584614034\n",
      "1237648704585072825\n",
      "1237648704586121527\n",
      "1237648704586645733\n",
      "1237648704586646138\n",
      "\n",
      "     number of images:  10202  class size : 10202\n",
      " -------- End -------\n",
      "Train on 6121 samples, validate on 2041 samples\n",
      "Epoch 1/8\n",
      "6121/6121 [==============================] - 205s 34ms/step - loss: 0.5345 - acc: 0.0029 - val_loss: 0.1693 - val_acc: 0.0059\n",
      "Epoch 2/8\n",
      "6121/6121 [==============================] - 200s 33ms/step - loss: 0.2566 - acc: 0.0042 - val_loss: 0.2413 - val_acc: 0.0039\n",
      "Epoch 3/8\n",
      "6121/6121 [==============================] - 204s 33ms/step - loss: 0.1849 - acc: 0.0047 - val_loss: 0.1910 - val_acc: 0.0054\n",
      "Epoch 4/8\n",
      "6121/6121 [==============================] - 205s 34ms/step - loss: 0.1624 - acc: 0.0049 - val_loss: 0.1681 - val_acc: 0.0049\n",
      "Epoch 5/8\n",
      "6121/6121 [==============================] - 219s 36ms/step - loss: 0.1514 - acc: 0.0046 - val_loss: 0.2014 - val_acc: 0.0044\n",
      "Epoch 6/8\n",
      "6121/6121 [==============================] - 205s 34ms/step - loss: 0.1477 - acc: 0.0044 - val_loss: 0.1640 - val_acc: 0.0054\n",
      "Epoch 7/8\n",
      "6121/6121 [==============================] - 206s 34ms/step - loss: 0.1359 - acc: 0.0047 - val_loss: 0.1260 - val_acc: 0.0054\n",
      "Epoch 8/8\n",
      "6121/6121 [==============================] - 201s 33ms/step - loss: 0.1297 - acc: 0.0047 - val_loss: 0.1218 - val_acc: 0.0059\n",
      "Saved model to disk\n"
     ]
    },
    {
     "data": {
      "image/png": "[encoded data removed]",
      "text/plain": [
       "<matplotlib.figure.Figure at 0x7fe294fe7668>"
      ]
     },
     "metadata": {},
     "output_type": "display_data"
    }
   ],
   "source": [
    "batch_size = 10#128\n",
    "data = '../data/csvs/galaxies/all1_.csv';\n",
    "dir_img = '../data/images/galaxies1/all'\n",
    "\n",
    "X_Train, Y_Train, X_Test, Y_Test, X_Valid, Y_Valid = get_train_test_valid_data_galaxy(data,dir_img,test_size=0.4, valid_size = 0.5)\n",
    "\n",
    "history = model.fit(X_Train, Y_Train, validation_data=(X_Valid, Y_Valid), epochs=8, batch_size=batch_size, verbose=1)\n",
    "\n",
    "save_model(model, './model.json')\n",
    "\n",
    "plot_history(history);\n"
   ]
  },
  {
   "cell_type": "code",
   "execution_count": 19,
   "metadata": {
    "scrolled": true
   },
   "outputs": [
    {
     "data": {
      "text/plain": [
       "RMSE_znorm            0.081211\n",
       "bias_znorm            0.076739\n",
       "std_znorm             0.076739\n",
       "RMSE                  0.119082\n",
       "|znorm| > 0.15 (%)    5.735294\n",
       "|znorm| > 3std (%)    1.568627\n",
       "Name: Redshift, dtype: float64"
      ]
     },
     "execution_count": 19,
     "metadata": {},
     "output_type": "execute_result"
    }
   ],
   "source": [
    "predict = model.predict(X_Test, batch_size=batch_size).reshape(-1)\n",
    "result = compute_metrics(Y_Test, predict, 'Redshift')     \n",
    "result"
   ]
  },
  {
   "cell_type": "code",
   "execution_count": null,
   "metadata": {
    "collapsed": true,
    "scrolled": false
   },
   "outputs": [],
   "source": []
  },
  {
   "cell_type": "code",
   "execution_count": 2,
   "metadata": {
    "collapsed": true
   },
   "outputs": [],
   "source": [
    "#plot_quality(y_test, predict, object_class_test)"
   ]
  },
  {
   "cell_type": "code",
   "execution_count": 3,
   "metadata": {
    "collapsed": true
   },
   "outputs": [],
   "source": [
    "#dir_ = '../data/csvs/galaxies/'\n",
    "#path1 = dir_+'all1.csv'\n",
    "#path2 = dir_+'g.csv'\n",
    "#comp = 0;\n",
    "#with open(path1) as f:\n",
    "#   with open(path2,'w') as p2:\n",
    " #       p2.write('')\n",
    "  #  with open(path2,'a') as p2:\n",
    "   #     for a in f.readlines():\n",
    "    #        p2.write(a)\n",
    "     #       if (comp == 2600):\n",
    "      #          break;\n",
    "       #     else:\n",
    "        #        comp = comp + 1"
   ]
  },
  {
   "cell_type": "code",
   "execution_count": 4,
   "metadata": {
    "collapsed": true
   },
   "outputs": [],
   "source": [
    "#print(32*32*5)"
   ]
  },
  {
   "cell_type": "code",
   "execution_count": 5,
   "metadata": {
    "collapsed": true
   },
   "outputs": [],
   "source": [
    "#import os\n",
    "#os.path.join('../data/object_images/', str(int(values['objid'])))\n",
    "#print(os.path.join('../data/','aaa'))"
   ]
  },
  {
   "cell_type": "code",
   "execution_count": null,
   "metadata": {
    "collapsed": true
   },
   "outputs": [],
   "source": []
  },
  {
   "cell_type": "code",
   "execution_count": null,
   "metadata": {
    "collapsed": true
   },
   "outputs": [],
   "source": []
  },
  {
   "cell_type": "code",
   "execution_count": null,
   "metadata": {
    "collapsed": true
   },
   "outputs": [],
   "source": []
  },
  {
   "cell_type": "code",
   "execution_count": null,
   "metadata": {
    "collapsed": true
   },
   "outputs": [],
   "source": []
  },
  {
   "cell_type": "code",
   "execution_count": null,
   "metadata": {
    "collapsed": true
   },
   "outputs": [],
   "source": []
  },
  {
   "cell_type": "code",
   "execution_count": null,
   "metadata": {
    "collapsed": true
   },
   "outputs": [],
   "source": []
  },
  {
   "cell_type": "code",
   "execution_count": null,
   "metadata": {
    "collapsed": true
   },
   "outputs": [],
   "source": []
  },
  {
   "cell_type": "code",
   "execution_count": null,
   "metadata": {
    "collapsed": true
   },
   "outputs": [],
   "source": []
  },
  {
   "cell_type": "code",
   "execution_count": null,
   "metadata": {
    "collapsed": true
   },
   "outputs": [],
   "source": []
  },
  {
   "cell_type": "code",
   "execution_count": 18,
   "metadata": {},
   "outputs": [
    {
     "name": "stdout",
     "output_type": "stream",
     "text": [
      "40320\n"
     ]
    }
   ],
   "source": [
    "def fact(n):\n",
    "    try:\n",
    "        n = int(n);\n",
    "        if n<2:\n",
    "            return 1\n",
    "        else:\n",
    "            return n*fact(n-1)\n",
    "    except:\n",
    "        print('not integer')\n",
    "print(fact(8))"
   ]
  },
  {
   "cell_type": "code",
   "execution_count": 20,
   "metadata": {
    "collapsed": true
   },
   "outputs": [],
   "source": [
    "b='1237648704586646138'\n",
    "path = '../data/csvs/galaxies/all1.csv'\n",
    "dest = '../data/csvs/galaxies/all1_1.csv'\n",
    "v = False\n",
    "with open(path,'r') as f:\n",
    "    with open(dest,'a') as d:\n",
    "        d.write(f.readline())\n",
    "        for a in f.readlines():\n",
    "            if v:\n",
    "                d.write(a)\n",
    "            if v or a.startswith(b):\n",
    "                v = True"
   ]
  },
  {
   "cell_type": "code",
   "execution_count": null,
   "metadata": {
    "collapsed": true
   },
   "outputs": [],
   "source": []
  }
 ],
 "metadata": {
  "kernelspec": {
   "display_name": "Python 3",
   "language": "python",
   "name": "python3"
  },
  "language_info": {
   "codemirror_mode": {
    "name": "ipython",
    "version": 3
   },
   "file_extension": ".py",
   "mimetype": "text/x-python",
   "name": "python",
   "nbconvert_exporter": "python",
   "pygments_lexer": "ipython3",
   "version": "3.6.3"
  }
 },
 "nbformat": 4,
 "nbformat_minor": 2
}
