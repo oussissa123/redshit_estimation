{
 "cells": [
  {
   "cell_type": "code",
   "execution_count": 1,
   "metadata": {},
   "outputs": [
    {
     "name": "stderr",
     "output_type": "stream",
     "text": [
      "Using TensorFlow backend.\n"
     ]
    },
    {
     "name": "stdout",
     "output_type": "stream",
     "text": [
      "(None, 8, 8, 4)\n",
      "(None, 8, 8, 4)\n",
      "Ok ....\n"
     ]
    }
   ],
   "source": [
    "from keras.layers import Flatten, Conv3D, Activation , Dense, AveragePooling2D, MaxPooling3D , Dropout, Conv2D, MaxPooling2D\n",
    "from keras.models import Sequential\n",
    "from utils import *\n",
    "from keras.utils import plot_model\n",
    "\n",
    "model = Sequential()\n",
    "# ------------- start convolution layer ------------------\n",
    "L = Conv2D(4,[3,3], data_format='channels_last', activation = 'tanh', padding = 'same', input_shape=(32,32,5))\n",
    "model.add(L)\n",
    "\n",
    "\n",
    "P = MaxPooling2D(pool_size=(2, 2), strides=2, padding='valid', data_format='channels_last')    \n",
    "model.add(P)\n",
    "\n",
    "\n",
    "L1 = Conv2D(4,[3,3], data_format='channels_last', padding = 'same', activation = 'tanh')\n",
    "model.add(L1)\n",
    "\n",
    "P1 = MaxPooling2D(pool_size=(2, 2), strides=2, padding='valid', data_format='channels_last')    \n",
    "model.add(P1)\n",
    "\n",
    "\"\"\"\n",
    "L2 = Conv2D(4,[3,3], data_format='channels_last',padding = 'same', activation = 'relu')\n",
    "model.add(L2)\n",
    "\n",
    "P2 = MaxPooling2D(pool_size=(2, 2), strides=2, padding='valid', data_format='channels_last')    \n",
    "model.add(P2)\n",
    "\n",
    "\n",
    "\n",
    "\"\"\"\n",
    "\n",
    "\"\"\"\n",
    "\n",
    "L3 = Conv2D(4,[2,2], data_format='channels_last', activation = 'relu')\n",
    "model.add(L3)\n",
    "\n",
    "P3 = MaxPooling2D(pool_size=(2, 2), strides=1, padding='valid', data_format='channels_last')    \n",
    "model.add(P3)\n",
    "\"\"\"\n",
    "size = model.output_shape\n",
    "print(size)\n",
    "# -------------- start fully connected -------------------\n",
    "\n",
    "model.add(Flatten())\n",
    "model = model_nn(model, size[1]*size[2]*size[3], 5, dropout=0.3, batch_normalization=True, activation='relu', neurons_decay=0, starting_power=1, l2=10**-5, compile_model=True, trainable=True)\n",
    "print(size)\n",
    "print(\"Ok ....\")"
   ]
  },
  {
   "cell_type": "code",
   "execution_count": 2,
   "metadata": {
    "scrolled": true
   },
   "outputs": [
    {
     "name": "stdout",
     "output_type": "stream",
     "text": [
      "--------------------- End of loading ------------------------------\n",
      "                     |Loss:  2324\n",
      "Train on 7141 samples, validate on 1531 samples\n",
      "Epoch 1/20\n",
      "7141/7141 [==============================] - 21s 3ms/step - loss: 0.7865 - acc: 0.0027 - val_loss: 2.0667 - val_acc: 6.5317e-04\n",
      "Epoch 2/20\n",
      "7141/7141 [==============================] - 17s 2ms/step - loss: 0.5245 - acc: 0.0038 - val_loss: 0.3961 - val_acc: 0.0046\n",
      "Epoch 3/20\n",
      "7141/7141 [==============================] - 19s 3ms/step - loss: 0.4068 - acc: 0.0038 - val_loss: 0.5738 - val_acc: 6.5317e-04\n",
      "Epoch 4/20\n",
      "7141/7141 [==============================] - 16s 2ms/step - loss: 0.2992 - acc: 0.0050 - val_loss: 0.1727 - val_acc: 0.0046\n",
      "Epoch 5/20\n",
      "7141/7141 [==============================] - 16s 2ms/step - loss: 0.2556 - acc: 0.0049 - val_loss: 0.3666 - val_acc: 0.0026\n",
      "Epoch 6/20\n",
      "7141/7141 [==============================] - 16s 2ms/step - loss: 0.2154 - acc: 0.0055 - val_loss: 0.2736 - val_acc: 0.0039\n",
      "Epoch 7/20\n",
      "7141/7141 [==============================] - 16s 2ms/step - loss: 0.1953 - acc: 0.0053 - val_loss: 0.2968 - val_acc: 0.0033\n",
      "Epoch 8/20\n",
      "7141/7141 [==============================] - 16s 2ms/step - loss: 0.1672 - acc: 0.0053 - val_loss: 0.1617 - val_acc: 0.0046\n",
      "Epoch 9/20\n",
      "7141/7141 [==============================] - 18s 2ms/step - loss: 0.1446 - acc: 0.0056 - val_loss: 0.1548 - val_acc: 0.0046\n",
      "Epoch 10/20\n",
      "7141/7141 [==============================] - 18s 2ms/step - loss: 0.1333 - acc: 0.0055 - val_loss: 0.1055 - val_acc: 0.0052\n",
      "Epoch 11/20\n",
      "7141/7141 [==============================] - 16s 2ms/step - loss: 0.1332 - acc: 0.0055 - val_loss: 0.1043 - val_acc: 0.0052\n",
      "Epoch 12/20\n",
      "7141/7141 [==============================] - 15s 2ms/step - loss: 0.1184 - acc: 0.0056 - val_loss: 0.1241 - val_acc: 0.0046\n",
      "Epoch 13/20\n",
      "7141/7141 [==============================] - 16s 2ms/step - loss: 0.1127 - acc: 0.0056 - val_loss: 0.1073 - val_acc: 0.0052\n",
      "Epoch 14/20\n",
      "7141/7141 [==============================] - 18s 3ms/step - loss: 0.1111 - acc: 0.0057 - val_loss: 0.0972 - val_acc: 0.0052\n",
      "Epoch 15/20\n",
      "7141/7141 [==============================] - 17s 2ms/step - loss: 0.1098 - acc: 0.0053 - val_loss: 0.1046 - val_acc: 0.0052\n",
      "Epoch 16/20\n",
      "7141/7141 [==============================] - 16s 2ms/step - loss: 0.1055 - acc: 0.0055 - val_loss: 0.0966 - val_acc: 0.0052\n",
      "Epoch 17/20\n",
      "7141/7141 [==============================] - 16s 2ms/step - loss: 0.1044 - acc: 0.0057 - val_loss: 0.0926 - val_acc: 0.0052\n",
      "Epoch 18/20\n",
      "7141/7141 [==============================] - 17s 2ms/step - loss: 0.1020 - acc: 0.0057 - val_loss: 0.1040 - val_acc: 0.0052\n",
      "Epoch 19/20\n",
      "7141/7141 [==============================] - 17s 2ms/step - loss: 0.0989 - acc: 0.0057 - val_loss: 0.0984 - val_acc: 0.0052\n",
      "Epoch 20/20\n",
      "7141/7141 [==============================] - 16s 2ms/step - loss: 0.1022 - acc: 0.0055 - val_loss: 0.0948 - val_acc: 0.0052\n",
      "Saved model to disk\n"
     ]
    },
    {
     "data": {
      "image/png": "[encoded data removed]",
      "text/plain": [
       "<matplotlib.figure.Figure at 0x7f4a99021e80>"
      ]
     },
     "metadata": {},
     "output_type": "display_data"
    }
   ],
   "source": [
    "batch_size = 128\n",
    "data = '../data/csvs/galaxies/all1_.csv';\n",
    "dir_img = '../data/images/galaxies1/all/*.npy'\n",
    "\n",
    "X_Train, Y_Train, X_Test, Y_Test, X_Valid, Y_Valid = get_train_test_valid_data_galaxy(data,dir_img,test_size=0.3, valid_size = 0.5)\n",
    "\n",
    "history = model.fit(X_Train, Y_Train, validation_data=(X_Valid, Y_Valid), epochs=20, batch_size=batch_size, verbose=1)\n",
    "\n",
    "save_model(model, './model.json')\n",
    "\n",
    "plot_history(history)\n"
   ]
  },
  {
   "cell_type": "code",
   "execution_count": 3,
   "metadata": {
    "scrolled": true
   },
   "outputs": [
    {
     "data": {
      "text/plain": [
       "RMSE_znorm             0.619861\n",
       "bias_znorm             0.585632\n",
       "std_znorm              0.585632\n",
       "RMSE                   0.870730\n",
       "|znorm| > 0.15 (%)    97.189542\n",
       "|znorm| > 3std (%)     2.026144\n",
       "Name: Redshift, dtype: float64"
      ]
     },
     "execution_count": 3,
     "metadata": {},
     "output_type": "execute_result"
    }
   ],
   "source": [
    "predict = model.predict(X_Test, batch_size=batch_size).reshape(-1)\n",
    "result = compute_metrics(Y_Test, predict, 'Redshift')     \n",
    "result"
   ]
  },
  {
   "cell_type": "code",
   "execution_count": 5,
   "metadata": {
    "scrolled": false
   },
   "outputs": [
    {
     "data": {
      "image/png": "[encoded data removed]",
      "text/plain": [
       "<matplotlib.figure.Figure at 0x7fd79e054668>"
      ]
     },
     "metadata": {},
     "output_type": "display_data"
    }
   ],
   "source": [
    "plot_result(Y_Test, predict)"
   ]
  },
  {
   "cell_type": "code",
   "execution_count": 4,
   "metadata": {},
   "outputs": [
    {
     "data": {
      "image/png": "[encoded data removed]",
      "text/plain": [
       "<matplotlib.figure.Figure at 0x7f59ecc022e8>"
      ]
     },
     "metadata": {},
     "output_type": "display_data"
    }
   ],
   "source": [
    "plot_result(Y_Test, predict)\n",
    "#plot_quality(y_test, predict, object_class_test)"
   ]
  },
  {
   "cell_type": "code",
   "execution_count": 3,
   "metadata": {
    "collapsed": true
   },
   "outputs": [],
   "source": [
    "#dir_ = '../data/csvs/galaxies/'\n",
    "#path1 = dir_+'all1.csv'\n",
    "#path2 = dir_+'g.csv'\n",
    "#comp = 0;\n",
    "#with open(path1) as f:\n",
    "#   with open(path2,'w') as p2:\n",
    " #       p2.write('')\n",
    "  #  with open(path2,'a') as p2:\n",
    "   #     for a in f.readlines():\n",
    "    #        p2.write(a)\n",
    "     #       if (comp == 2600):\n",
    "      #          break;\n",
    "       #     else:\n",
    "        #        comp = comp + 1"
   ]
  },
  {
   "cell_type": "code",
   "execution_count": 4,
   "metadata": {
    "collapsed": true
   },
   "outputs": [],
   "source": [
    "#print(32*32*5)"
   ]
  },
  {
   "cell_type": "code",
   "execution_count": 5,
   "metadata": {
    "collapsed": true
   },
   "outputs": [],
   "source": [
    "#import os\n",
    "#os.path.join('../data/object_images/', str(int(values['objid'])))\n",
    "#print(os.path.join('../data/','aaa'))"
   ]
  },
  {
   "cell_type": "code",
   "execution_count": null,
   "metadata": {
    "collapsed": true
   },
   "outputs": [],
   "source": []
  },
  {
   "cell_type": "code",
   "execution_count": null,
   "metadata": {
    "collapsed": true
   },
   "outputs": [],
   "source": []
  },
  {
   "cell_type": "code",
   "execution_count": null,
   "metadata": {
    "collapsed": true
   },
   "outputs": [],
   "source": []
  },
  {
   "cell_type": "code",
   "execution_count": null,
   "metadata": {
    "collapsed": true
   },
   "outputs": [],
   "source": []
  },
  {
   "cell_type": "code",
   "execution_count": null,
   "metadata": {
    "collapsed": true
   },
   "outputs": [],
   "source": []
  },
  {
   "cell_type": "code",
   "execution_count": null,
   "metadata": {
    "collapsed": true
   },
   "outputs": [],
   "source": []
  },
  {
   "cell_type": "code",
   "execution_count": null,
   "metadata": {
    "collapsed": true
   },
   "outputs": [],
   "source": []
  },
  {
   "cell_type": "code",
   "execution_count": null,
   "metadata": {
    "collapsed": true
   },
   "outputs": [],
   "source": []
  },
  {
   "cell_type": "code",
   "execution_count": null,
   "metadata": {
    "collapsed": true
   },
   "outputs": [],
   "source": []
  },
  {
   "cell_type": "code",
   "execution_count": 18,
   "metadata": {},
   "outputs": [
    {
     "name": "stdout",
     "output_type": "stream",
     "text": [
      "40320\n"
     ]
    }
   ],
   "source": [
    "def fact(n):\n",
    "    try:\n",
    "        n = int(n);\n",
    "        if n<2:\n",
    "            return 1\n",
    "        else:\n",
    "            return n*fact(n-1)\n",
    "    except:\n",
    "        print('not integer')\n",
    "print(fact(8))"
   ]
  },
  {
   "cell_type": "code",
   "execution_count": 20,
   "metadata": {
    "collapsed": true
   },
   "outputs": [],
   "source": [
    "b='1237648704586646138'\n",
    "path = '../data/csvs/galaxies/all1.csv'\n",
    "dest = '../data/csvs/galaxies/all1_1.csv'\n",
    "v = False\n",
    "with open(path,'r') as f:\n",
    "    with open(dest,'a') as d:\n",
    "        d.write(f.readline())\n",
    "        for a in f.readlines():\n",
    "            if v:\n",
    "                d.write(a)\n",
    "            if v or a.startswith(b):\n",
    "                v = True"
   ]
  },
  {
   "cell_type": "code",
   "execution_count": 11,
   "metadata": {},
   "outputs": [
    {
     "name": "stdout",
     "output_type": "stream",
     "text": [
      "256\n"
     ]
    }
   ],
   "source": [
    "print(pow(16,2))"
   ]
  },
  {
   "cell_type": "code",
   "execution_count": 1,
   "metadata": {},
   "outputs": [
    {
     "name": "stderr",
     "output_type": "stream",
     "text": [
      "Using TensorFlow backend.\n"
     ]
    },
    {
     "data": {
      "image/png": "[encoded data removed]",
      "text/plain": [
       "<matplotlib.figure.Figure at 0x7f9daf7260b8>"
      ]
     },
     "metadata": {},
     "output_type": "display_data"
    }
   ],
   "source": [
    "from utils import *\n",
    "X = [1,2,3,4,-1,-2,-3,10]\n",
    "Y = X = [0,1,2,3,-8,4,10,11]\n",
    "plot_result(X, Y)"
   ]
  },
  {
   "cell_type": "code",
   "execution_count": null,
   "metadata": {
    "collapsed": true
   },
   "outputs": [],
   "source": []
  }
 ],
 "metadata": {
  "kernelspec": {
   "display_name": "Python 3",
   "language": "python",
   "name": "python3"
  },
  "language_info": {
   "codemirror_mode": {
    "name": "ipython",
    "version": 3
   },
   "file_extension": ".py",
   "mimetype": "text/x-python",
   "name": "python",
   "nbconvert_exporter": "python",
   "pygments_lexer": "ipython3",
   "version": "3.6.3"
  }
 },
 "nbformat": 4,
 "nbformat_minor": 2
}
