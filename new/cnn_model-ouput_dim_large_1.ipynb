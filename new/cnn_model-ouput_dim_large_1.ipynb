{
 "cells": [
  {
   "cell_type": "code",
   "execution_count": 1,
   "metadata": {},
   "outputs": [
    {
     "name": "stderr",
     "output_type": "stream",
     "text": [
      "Using TensorFlow backend.\n"
     ]
    },
    {
     "name": "stdout",
     "output_type": "stream",
     "text": [
      "(None, 15, 15, 8)\n",
      "(None, 15, 15, 8)\n",
      "Ok ....\n"
     ]
    }
   ],
   "source": [
    "from keras.layers import Flatten, Conv3D, Activation , Dense, AveragePooling3D, MaxPooling3D , Dropout, Conv2D, MaxPooling2D\n",
    "from keras.models import Sequential\n",
    "from utils import *\n",
    "from keras.utils import plot_model\n",
    "\n",
    "model = Sequential()\n",
    "# ------------- start convolution layer ------------------\n",
    "L = Conv2D(8,[3,3], data_format='channels_last', activation = 'tanh', input_shape=(32,32,5))\n",
    "model.add(L)\n",
    "\n",
    "\n",
    "P = MaxPooling2D(pool_size=(2, 2), strides=2, padding='valid', data_format='channels_last')    \n",
    "model.add(P)\n",
    "\n",
    "\"\"\"\n",
    "L1 = Conv2D(10,[2,2], data_format='channels_last', activation = 'relu')\n",
    "model.add(L1)\n",
    "\n",
    "P1 = MaxPooling2D(pool_size=(2, 2), strides=1, padding='valid', data_format='channels_last')    \n",
    "model.add(P1)\n",
    "\n",
    "L2 = Conv2D(10,[3,3], data_format='channels_last', activation = 'relu')\n",
    "model.add(L2)\n",
    "\n",
    "P2 = MaxPooling2D(pool_size=(2, 2), strides=1, padding='valid', data_format='channels_last')    \n",
    "model.add(P2)\n",
    "\"\"\"\n",
    "\n",
    "\"\"\"\n",
    "\n",
    "L3 = Conv2D(4,[2,2], data_format='channels_last', activation = 'relu')\n",
    "model.add(L3)\n",
    "\n",
    "P3 = MaxPooling2D(pool_size=(2, 2), strides=1, padding='valid', data_format='channels_last')    \n",
    "model.add(P3)\n",
    "\"\"\"\n",
    "size = model.output_shape\n",
    "print(size)\n",
    "# -------------- start fully connected -------------------\n",
    "\n",
    "model.add(Flatten())\n",
    "model = model_nn(model, size[1]*size[2]*size[3], 5, dropout=0.3, batch_normalization=True, activation='relu', neurons_decay=0, starting_power=1, l2=10**-5, compile_model=True, trainable=True)\n",
    "model.compile(loss=rmse_loss_keras, optimizer=keras.optimizers.Adam(), metrics=['accuracy'])\n",
    "#plot_model(model, to_file='model.png')\n",
    "#print(model.output_shape)\n",
    "print(size)\n",
    "print(\"Ok ....\")"
   ]
  },
  {
   "cell_type": "code",
   "execution_count": 2,
   "metadata": {},
   "outputs": [
    {
     "name": "stdout",
     "output_type": "stream",
     "text": [
      "Un objet de moins\n",
      "Un objet de moins\n",
      "Un objet de moins\n",
      "Un objet de moins\n",
      "Un objet de moins\n",
      "Un objet de moins\n",
      "Un objet de moins\n",
      "Un objet de moins\n",
      "Un objet de moins\n",
      "Un objet de moins\n",
      "Un objet de moins\n",
      "Un objet de moins\n",
      "Un objet de moins\n",
      "Un objet de moins\n",
      "Un objet de moins\n",
      "Un objet de moins\n",
      "Un objet de moins\n",
      "Un objet de moins\n",
      "Un objet de moins\n",
      "Un objet de moins\n",
      "Un objet de moins\n",
      "Un objet de moins\n",
      "-------------- Data loading ok -----------\n",
      "     perte =  22\n",
      "1237648702973673741\n",
      "1237648702985404770\n",
      "1237648702986518724\n",
      "1237648702986912122\n",
      "1237648702987632847\n",
      "1237648703509233785\n",
      "1237648703509758382\n",
      "1237648703510413552\n",
      "1237648703510413633\n",
      "1237648703512117332\n",
      "1237648703513428338\n",
      "1237648703515066594\n",
      "1237648703521030539\n",
      "1237648704047022301\n",
      "1237648704049578410\n",
      "1237648704057704989\n",
      "1237648704581599552\n",
      "1237648704584614034\n",
      "1237648704585072825\n",
      "1237648704586121527\n",
      "1237648704586645733\n",
      "1237648704586646138\n",
      "\n",
      "     number of images:  10202  class size : 10202\n",
      " -------- End -------\n",
      "Train on 6121 samples, validate on 2041 samples\n",
      "Epoch 1/10\n",
      "6121/6121 [==============================] - 268s 44ms/step - loss: 0.6862 - acc: 0.0033 - val_loss: 0.6864 - val_acc: 0.0029\n",
      "Epoch 2/10\n",
      "6121/6121 [==============================] - 259s 42ms/step - loss: 0.3663 - acc: 0.0038 - val_loss: 0.2511 - val_acc: 0.0049\n",
      "Epoch 3/10\n",
      "6121/6121 [==============================] - 260s 43ms/step - loss: 0.2890 - acc: 0.0039 - val_loss: 0.1958 - val_acc: 0.0054\n",
      "Epoch 4/10\n",
      "6121/6121 [==============================] - 270s 44ms/step - loss: 0.2464 - acc: 0.0042 - val_loss: 0.2615 - val_acc: 0.0054\n",
      "Epoch 5/10\n",
      "6121/6121 [==============================] - 258s 42ms/step - loss: 0.2232 - acc: 0.0039 - val_loss: 0.2024 - val_acc: 0.0054\n",
      "Epoch 6/10\n",
      "6121/6121 [==============================] - 253s 41ms/step - loss: 0.2114 - acc: 0.0041 - val_loss: 0.1967 - val_acc: 0.0049\n",
      "Epoch 7/10\n",
      "6121/6121 [==============================] - 249s 41ms/step - loss: 0.1904 - acc: 0.0041 - val_loss: 0.1773 - val_acc: 0.0054\n",
      "Epoch 8/10\n",
      "6121/6121 [==============================] - 245s 40ms/step - loss: 0.1730 - acc: 0.0046 - val_loss: 0.2212 - val_acc: 0.0049\n",
      "Epoch 9/10\n",
      "6121/6121 [==============================] - 253s 41ms/step - loss: 0.1598 - acc: 0.0044 - val_loss: 0.1280 - val_acc: 0.0054\n",
      "Epoch 10/10\n",
      "6121/6121 [==============================] - 247s 40ms/step - loss: 0.1459 - acc: 0.0044 - val_loss: 0.1270 - val_acc: 0.0054\n",
      "Saved model to disk\n"
     ]
    },
    {
     "data": {
      "image/png": "[encoded data removed]",
      "text/plain": [
       "<matplotlib.figure.Figure at 0x7f133b2e1240>"
      ]
     },
     "metadata": {},
     "output_type": "display_data"
    }
   ],
   "source": [
    "batch_size = 10#128\n",
    "data = '../data/csvs/galaxies/all1_.csv';\n",
    "dir_img = '../data/images/galaxies1/all'\n",
    "\n",
    "X_Train, Y_Train, X_Test, Y_Test, X_Valid, Y_Valid = get_train_test_valid_data_galaxy(data,dir_img,test_size=0.4, valid_size = 0.5)\n",
    "\n",
    "history = model.fit(X_Train, Y_Train, validation_data=(X_Valid, Y_Valid), epochs=10, batch_size=batch_size, verbose=1)\n",
    "\n",
    "save_model(model, './model.json')\n",
    "\n",
    "plot_history(history);\n"
   ]
  },
  {
   "cell_type": "code",
   "execution_count": 3,
   "metadata": {
    "scrolled": true
   },
   "outputs": [
    {
     "data": {
      "text/plain": [
       "RMSE_znorm            0.074853\n",
       "bias_znorm            0.071814\n",
       "std_znorm             0.071814\n",
       "RMSE                  0.108011\n",
       "|znorm| > 0.15 (%)    5.490196\n",
       "|znorm| > 3std (%)    1.813725\n",
       "Name: Redshift, dtype: float64"
      ]
     },
     "execution_count": 3,
     "metadata": {},
     "output_type": "execute_result"
    }
   ],
   "source": [
    "predict = model.predict(X_Test, batch_size=batch_size).reshape(-1)\n",
    "result = compute_metrics(Y_Test, predict, 'Redshift')     \n",
    "result"
   ]
  },
  {
   "cell_type": "code",
   "execution_count": null,
   "metadata": {
    "collapsed": true,
    "scrolled": false
   },
   "outputs": [],
   "source": [
    "RMSE_znorm            0.095870\n",
    "bias_znorm            0.086084\n",
    "std_znorm             0.086084\n",
    "RMSE                  0.116953\n",
    "|znorm| > 0.15 (%)    8.333333\n",
    "|znorm| > 3std (%)    1.568627\n",
    "Name: Redshift, dtype: float64"
   ]
  },
  {
   "cell_type": "code",
   "execution_count": 5,
   "metadata": {},
   "outputs": [
    {
     "data": {
      "image/png": "[encoded data removed]",
      "text/plain": [
       "<matplotlib.figure.Figure at 0x7f133a792b38>"
      ]
     },
     "metadata": {},
     "output_type": "display_data"
    }
   ],
   "source": [
    "plot_result(Y_Test, predict)\n",
    "#plot_quality(y_test, predict, object_class_test)"
   ]
  },
  {
   "cell_type": "code",
   "execution_count": 3,
   "metadata": {
    "collapsed": true
   },
   "outputs": [],
   "source": [
    "#dir_ = '../data/csvs/galaxies/'\n",
    "#path1 = dir_+'all1.csv'\n",
    "#path2 = dir_+'g.csv'\n",
    "#comp = 0;\n",
    "#with open(path1) as f:\n",
    "#   with open(path2,'w') as p2:\n",
    " #       p2.write('')\n",
    "  #  with open(path2,'a') as p2:\n",
    "   #     for a in f.readlines():\n",
    "    #        p2.write(a)\n",
    "     #       if (comp == 2600):\n",
    "      #          break;\n",
    "       #     else:\n",
    "        #        comp = comp + 1"
   ]
  },
  {
   "cell_type": "code",
   "execution_count": 4,
   "metadata": {
    "collapsed": true
   },
   "outputs": [],
   "source": [
    "#print(32*32*5)"
   ]
  },
  {
   "cell_type": "code",
   "execution_count": 5,
   "metadata": {
    "collapsed": true
   },
   "outputs": [],
   "source": [
    "#import os\n",
    "#os.path.join('../data/object_images/', str(int(values['objid'])))\n",
    "#print(os.path.join('../data/','aaa'))"
   ]
  },
  {
   "cell_type": "code",
   "execution_count": null,
   "metadata": {
    "collapsed": true
   },
   "outputs": [],
   "source": []
  },
  {
   "cell_type": "code",
   "execution_count": null,
   "metadata": {
    "collapsed": true
   },
   "outputs": [],
   "source": []
  },
  {
   "cell_type": "code",
   "execution_count": null,
   "metadata": {
    "collapsed": true
   },
   "outputs": [],
   "source": []
  },
  {
   "cell_type": "code",
   "execution_count": null,
   "metadata": {
    "collapsed": true
   },
   "outputs": [],
   "source": []
  },
  {
   "cell_type": "code",
   "execution_count": null,
   "metadata": {
    "collapsed": true
   },
   "outputs": [],
   "source": []
  },
  {
   "cell_type": "code",
   "execution_count": null,
   "metadata": {
    "collapsed": true
   },
   "outputs": [],
   "source": []
  },
  {
   "cell_type": "code",
   "execution_count": null,
   "metadata": {
    "collapsed": true
   },
   "outputs": [],
   "source": []
  },
  {
   "cell_type": "code",
   "execution_count": null,
   "metadata": {
    "collapsed": true
   },
   "outputs": [],
   "source": []
  },
  {
   "cell_type": "code",
   "execution_count": null,
   "metadata": {
    "collapsed": true
   },
   "outputs": [],
   "source": []
  },
  {
   "cell_type": "code",
   "execution_count": 18,
   "metadata": {},
   "outputs": [
    {
     "name": "stdout",
     "output_type": "stream",
     "text": [
      "40320\n"
     ]
    }
   ],
   "source": [
    "def fact(n):\n",
    "    try:\n",
    "        n = int(n);\n",
    "        if n<2:\n",
    "            return 1\n",
    "        else:\n",
    "            return n*fact(n-1)\n",
    "    except:\n",
    "        print('not integer')\n",
    "print(fact(8))"
   ]
  },
  {
   "cell_type": "code",
   "execution_count": 20,
   "metadata": {
    "collapsed": true
   },
   "outputs": [],
   "source": [
    "b='1237648704586646138'\n",
    "path = '../data/csvs/galaxies/all1.csv'\n",
    "dest = '../data/csvs/galaxies/all1_1.csv'\n",
    "v = False\n",
    "with open(path,'r') as f:\n",
    "    with open(dest,'a') as d:\n",
    "        d.write(f.readline())\n",
    "        for a in f.readlines():\n",
    "            if v:\n",
    "                d.write(a)\n",
    "            if v or a.startswith(b):\n",
    "                v = True"
   ]
  },
  {
   "cell_type": "code",
   "execution_count": 11,
   "metadata": {},
   "outputs": [
    {
     "name": "stdout",
     "output_type": "stream",
     "text": [
      "256\n"
     ]
    }
   ],
   "source": [
    "print(pow(16,2))"
   ]
  },
  {
   "cell_type": "code",
   "execution_count": null,
   "metadata": {
    "collapsed": true
   },
   "outputs": [],
   "source": []
  }
 ],
 "metadata": {
  "kernelspec": {
   "display_name": "Python 3",
   "language": "python",
   "name": "python3"
  },
  "language_info": {
   "codemirror_mode": {
    "name": "ipython",
    "version": 3
   },
   "file_extension": ".py",
   "mimetype": "text/x-python",
   "name": "python",
   "nbconvert_exporter": "python",
   "pygments_lexer": "ipython3",
   "version": "3.6.3"
  }
 },
 "nbformat": 4,
 "nbformat_minor": 2
}
