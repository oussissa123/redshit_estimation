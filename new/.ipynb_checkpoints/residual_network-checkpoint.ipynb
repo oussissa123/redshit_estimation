{
 "cells": [
  {
   "cell_type": "code",
   "execution_count": null,
   "metadata": {},
   "outputs": [
    {
     "name": "stderr",
     "output_type": "stream",
     "text": [
      "Using TensorFlow backend.\n"
     ]
    },
    {
     "name": "stdout",
     "output_type": "stream",
     "text": [
      "------------------------------------------------------------------ starting -----------------\n",
      "           |Model built\n",
      "--------------------- End of loading ------------------------------\n",
      "                     |Loss:  2451\n",
      "Train on 7141 samples, validate on 1531 samples\n",
      "Epoch 1/14\n",
      "7141/7141 [==============================] - 197s 28ms/step - loss: 0.4302 - acc: 0.0035 - val_loss: 17.5446 - val_acc: 0.0000e+00\n",
      "Epoch 2/14\n",
      "7141/7141 [==============================] - 193s 27ms/step - loss: 0.2050 - acc: 0.0049 - val_loss: 1.3140 - val_acc: 0.0039\n",
      "Epoch 3/14\n",
      "7141/7141 [==============================] - 194s 27ms/step - loss: 0.2158 - acc: 0.0038 - val_loss: 1.1888 - val_acc: 0.0020\n",
      "Epoch 4/14\n",
      "7141/7141 [==============================] - 191s 27ms/step - loss: 0.1680 - acc: 0.0045 - val_loss: 0.8932 - val_acc: 0.0020\n",
      "Epoch 5/14\n",
      "7141/7141 [==============================] - 193s 27ms/step - loss: 0.1727 - acc: 0.0045 - val_loss: 0.0983 - val_acc: 0.0052\n",
      "Epoch 6/14\n",
      "7141/7141 [==============================] - 193s 27ms/step - loss: 0.1272 - acc: 0.0046 - val_loss: 0.2949 - val_acc: 0.0033\n",
      "Epoch 7/14\n",
      "7141/7141 [==============================] - 190s 27ms/step - loss: 0.1002 - acc: 0.0046 - val_loss: 0.2387 - val_acc: 0.0039\n",
      "Epoch 8/14\n",
      "7141/7141 [==============================] - 190s 27ms/step - loss: 0.1783 - acc: 0.0046 - val_loss: 0.2543 - val_acc: 0.0033\n",
      "Epoch 9/14\n",
      "7141/7141 [==============================] - 198s 28ms/step - loss: 0.1904 - acc: 0.0046 - val_loss: 0.2971 - val_acc: 0.0039\n",
      "Epoch 10/14\n",
      "7141/7141 [==============================] - 187s 26ms/step - loss: 0.1769 - acc: 0.0046 - val_loss: 0.2104 - val_acc: 0.0052\n",
      "Epoch 11/14\n",
      "7141/7141 [==============================] - 187s 26ms/step - loss: 0.1515 - acc: 0.0046 - val_loss: 0.1999 - val_acc: 0.0052\n",
      "Epoch 12/14\n",
      "5120/7141 [====================>.........] - ETA: 50s - loss: 0.0964 - acc: 0.0043"
     ]
    }
   ],
   "source": [
    "from utils2 import *\n",
    "from keras.layers import Input as I\n",
    "from utils import *\n",
    "\n",
    "print('------------------------------------------------------------------ starting -----------------')\n",
    "batch_size = 256\n",
    "epoch = 100\n",
    "data = '../data/csvs/galaxies/all1_.csv';\n",
    "dir_img = '../data/images/galaxies1/all/*.npy'\n",
    "\n",
    "model = get_basic_residual_model(layer_number = 12, k = 3, start_size = 8)\n",
    "\n",
    "print('           |Model built')\n",
    "\n",
    "X_Train, Y_Train, X_Test, Y_Test, X_Valid, Y_Valid = get_train_test_valid_data_galaxy(data,dir_img,test_size=0.3, valid_size = 0.5)\n",
    "\n",
    "history = model.fit(X_Train, Y_Train, validation_data=(X_Valid, Y_Valid), epochs=epoch, batch_size=batch_size, verbose=1)\n",
    "#batch_size = 10#128\n",
    "#data = '../data/csvs/galaxies/all1_.csv';\n",
    "#dir_img = '../data/images/galaxies1/all'\n",
    "\n",
    "#Saving ploting\n",
    "save_model(model, './model_residual.json')\n",
    "plot_history(history);\n",
    "\n",
    "print('             |Training ok ...')\n",
    "\n",
    "#Testing and ploting of result\n",
    "predict = model.predict(X_Test, batch_size=batch_size).reshape(-1)\n",
    "result = compute_metrics(Y_Test, predict, 'Redshift')     \n",
    "print(result)\n",
    "plot_result(Y_Test, predict)\n",
    "\n",
    "print('----------------------------------------- End ---------------------------------------')"
   ]
  },
  {
   "cell_type": "code",
   "execution_count": null,
   "metadata": {
    "collapsed": true
   },
   "outputs": [],
   "source": []
  },
  {
   "cell_type": "code",
   "execution_count": null,
   "metadata": {
    "collapsed": true
   },
   "outputs": [],
   "source": []
  },
  {
   "cell_type": "code",
   "execution_count": null,
   "metadata": {
    "collapsed": true
   },
   "outputs": [],
   "source": []
  }
 ],
 "metadata": {
  "kernelspec": {
   "display_name": "Python 3",
   "language": "python",
   "name": "python3"
  },
  "language_info": {
   "codemirror_mode": {
    "name": "ipython",
    "version": 3
   },
   "file_extension": ".py",
   "mimetype": "text/x-python",
   "name": "python",
   "nbconvert_exporter": "python",
   "pygments_lexer": "ipython3",
   "version": "3.6.3"
  }
 },
 "nbformat": 4,
 "nbformat_minor": 2
}
