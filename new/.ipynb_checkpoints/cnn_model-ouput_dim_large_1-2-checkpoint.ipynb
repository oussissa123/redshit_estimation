{
 "cells": [
  {
   "cell_type": "code",
   "execution_count": 1,
   "metadata": {},
   "outputs": [
    {
     "name": "stderr",
     "output_type": "stream",
     "text": [
      "Using TensorFlow backend.\n"
     ]
    },
    {
     "name": "stdout",
     "output_type": "stream",
     "text": [
      "(None, 8, 8, 32)\n",
      "(None, 8, 8, 32)\n",
      "Ok ....\n"
     ]
    }
   ],
   "source": [
    "from keras.layers import Flatten, Conv3D, Activation , Dense, AveragePooling2D, MaxPooling3D , Dropout, Conv2D, MaxPooling2D\n",
    "from keras.models import Sequential\n",
    "from utils import *\n",
    "from keras.utils import plot_model\n",
    "\n",
    "model = Sequential()\n",
    "# ------------- start convolution layer ------------------\n",
    "L = Conv2D(32,[3,3], data_format='channels_last', activation = 'tanh', padding = 'same', input_shape=(32,32,5))\n",
    "model.add(L)\n",
    "\n",
    "\n",
    "P = MaxPooling2D(pool_size=(2, 2), strides=2, padding='valid', data_format='channels_last')    \n",
    "model.add(P)\n",
    "\n",
    "\n",
    "L1 = Conv2D(32,[3,3], data_format='channels_last', padding = 'same', activation = 'tanh')\n",
    "model.add(L1)\n",
    "\n",
    "P1 = MaxPooling2D(pool_size=(2, 2), strides=2, padding='valid', data_format='channels_last')    \n",
    "model.add(P1)\n",
    "\n",
    "\"\"\"\n",
    "L2 = Conv2D(4,[3,3], data_format='channels_last',padding = 'same', activation = 'relu')\n",
    "model.add(L2)\n",
    "\n",
    "P2 = MaxPooling2D(pool_size=(2, 2), strides=2, padding='valid', data_format='channels_last')    \n",
    "model.add(P2)\n",
    "\n",
    "\n",
    "\n",
    "\"\"\"\n",
    "\n",
    "\"\"\"\n",
    "\n",
    "L3 = Conv2D(4,[2,2], data_format='channels_last', activation = 'relu')\n",
    "model.add(L3)\n",
    "\n",
    "P3 = MaxPooling2D(pool_size=(2, 2), strides=1, padding='valid', data_format='channels_last')    \n",
    "model.add(P3)\n",
    "\"\"\"\n",
    "size = model.output_shape\n",
    "print(size)\n",
    "# -------------- start fully connected -------------------\n",
    "\n",
    "model.add(Flatten())\n",
    "model = model_nn(model, size[1]*size[2]*size[3], 5, dropout=0.3, batch_normalization=True, activation='relu', neurons_decay=0, starting_power=1, l2=10**-5, compile_model=True, trainable=True)\n",
    "print(size)\n",
    "print(\"Ok ....\")"
   ]
  },
  {
   "cell_type": "code",
   "execution_count": 4,
   "metadata": {
    "scrolled": true
   },
   "outputs": [
    {
     "name": "stdout",
     "output_type": "stream",
     "text": [
      "--------------------- End of loading ------------------------------\n",
      "                     |Loss:  68\n",
      "Train on 180 samples, validate on 60 samples\n",
      "Epoch 1/20\n",
      "180/180 [==============================] - 4s 21ms/step - loss: 1.1073 - acc: 0.0000e+00 - val_loss: 10.7369 - val_acc: 0.0000e+00\n",
      "Epoch 2/20\n",
      "180/180 [==============================] - 4s 20ms/step - loss: 1.0556 - acc: 0.0000e+00 - val_loss: 10.2895 - val_acc: 0.0000e+00\n",
      "Epoch 3/20\n",
      "180/180 [==============================] - 4s 20ms/step - loss: 1.1633 - acc: 0.0000e+00 - val_loss: 6.3047 - val_acc: 0.0000e+00\n",
      "Epoch 4/20\n",
      "180/180 [==============================] - 4s 20ms/step - loss: 0.6537 - acc: 0.0000e+00 - val_loss: 1.3530 - val_acc: 0.0167\n",
      "Epoch 5/20\n",
      "180/180 [==============================] - 4s 20ms/step - loss: 0.9470 - acc: 0.0000e+00 - val_loss: 1.4786 - val_acc: 0.0000e+00\n",
      "Epoch 6/20\n",
      "180/180 [==============================] - 4s 21ms/step - loss: 0.9530 - acc: 0.0000e+00 - val_loss: 1.3604 - val_acc: 0.0000e+00\n",
      "Epoch 7/20\n",
      "180/180 [==============================] - 3s 19ms/step - loss: 0.9399 - acc: 0.0000e+00 - val_loss: 1.1755 - val_acc: 0.0000e+00\n",
      "Epoch 8/20\n",
      "180/180 [==============================] - 3s 19ms/step - loss: 0.5097 - acc: 0.0000e+00 - val_loss: 2.2389 - val_acc: 0.0000e+00\n",
      "Epoch 9/20\n",
      "180/180 [==============================] - 4s 20ms/step - loss: 0.9770 - acc: 0.0000e+00 - val_loss: 5.0419 - val_acc: 0.0000e+00\n",
      "Epoch 10/20\n",
      "180/180 [==============================] - 3s 19ms/step - loss: 1.1012 - acc: 0.0000e+00 - val_loss: 4.7323 - val_acc: 0.0000e+00\n",
      "Epoch 11/20\n",
      "180/180 [==============================] - 3s 19ms/step - loss: 0.8010 - acc: 0.0000e+00 - val_loss: 1.3922 - val_acc: 0.0000e+00\n",
      "Epoch 12/20\n",
      "180/180 [==============================] - 3s 19ms/step - loss: 1.1579 - acc: 0.0000e+00 - val_loss: 0.8880 - val_acc: 0.0000e+00\n",
      "Epoch 13/20\n",
      "180/180 [==============================] - 4s 20ms/step - loss: 1.3973 - acc: 0.0056 - val_loss: 2.1065 - val_acc: 0.0000e+00\n",
      "Epoch 14/20\n",
      "180/180 [==============================] - 4s 21ms/step - loss: 0.7039 - acc: 0.0000e+00 - val_loss: 3.9877 - val_acc: 0.0000e+00\n",
      "Epoch 15/20\n",
      "180/180 [==============================] - 4s 20ms/step - loss: 0.8518 - acc: 0.0000e+00 - val_loss: 3.7299 - val_acc: 0.0000e+00\n",
      "Epoch 16/20\n",
      "180/180 [==============================] - 4s 19ms/step - loss: 1.1678 - acc: 0.0000e+00 - val_loss: 1.7149 - val_acc: 0.0000e+00\n",
      "Epoch 17/20\n",
      "180/180 [==============================] - 4s 20ms/step - loss: 0.8494 - acc: 0.0000e+00 - val_loss: 0.4980 - val_acc: 0.0167\n",
      "Epoch 18/20\n",
      "180/180 [==============================] - 4s 20ms/step - loss: 0.7096 - acc: 0.0000e+00 - val_loss: 1.6896 - val_acc: 0.0000e+00\n",
      "Epoch 19/20\n",
      "180/180 [==============================] - 3s 18ms/step - loss: 1.0786 - acc: 0.0000e+00 - val_loss: 2.9338 - val_acc: 0.0000e+00\n",
      "Epoch 20/20\n",
      "180/180 [==============================] - 3s 19ms/step - loss: 0.7145 - acc: 0.0000e+00 - val_loss: 1.8425 - val_acc: 0.0000e+00\n",
      "Saved model to disk\n"
     ]
    },
    {
     "data": {
      "image/png": "[encoded data removed]",
      "text/plain": [
       "<matplotlib.figure.Figure at 0x7fb484c49710>"
      ]
     },
     "metadata": {},
     "output_type": "display_data"
    }
   ],
   "source": [
    "batch_size = 128\n",
    "data = '../data/csvs/galaxies/all1_.csv';\n",
    "dir_img = '../data/images/galaxies1/all/*.npy'\n",
    "\n",
    "X_Train, Y_Train, X_Test, Y_Test, X_Valid, Y_Valid = get_train_test_valid_data_galaxy(data,dir_img,test_size=0.4, valid_size = 0.5, size_all = 300)\n",
    "\n",
    "history = model.fit(X_Train, Y_Train, validation_data=(X_Valid, Y_Valid), epochs=20, batch_size=batch_size, verbose=1)\n",
    "\n",
    "save_model(model, './model.json')\n",
    "\n",
    "plot_history(history)\n"
   ]
  },
  {
   "cell_type": "code",
   "execution_count": 5,
   "metadata": {
    "scrolled": true
   },
   "outputs": [
    {
     "data": {
      "text/plain": [
       "RMSE_znorm             0.814487\n",
       "bias_znorm             0.759368\n",
       "std_znorm              0.759368\n",
       "RMSE                   0.881709\n",
       "|znorm| > 0.15 (%)    35.000000\n",
       "|znorm| > 3std (%)     3.333333\n",
       "Name: Redshift, dtype: float64"
      ]
     },
     "execution_count": 5,
     "metadata": {},
     "output_type": "execute_result"
    }
   ],
   "source": [
    "predict = model.predict(X_Test, batch_size=batch_size).reshape(-1)\n",
    "result = compute_metrics(Y_Test, predict, 'Redshift')     \n",
    "result"
   ]
  },
  {
   "cell_type": "code",
   "execution_count": 9,
   "metadata": {
    "scrolled": false
   },
   "outputs": [
    {
     "data": {
      "image/png": "[encoded data removed]",
      "text/plain": [
       "<matplotlib.figure.Figure at 0x7fb47a7f7748>"
      ]
     },
     "metadata": {},
     "output_type": "display_data"
    }
   ],
   "source": [
    "plot_result(Y_Test, predict)"
   ]
  },
  {
   "cell_type": "code",
   "execution_count": null,
   "metadata": {},
   "outputs": [],
   "source": []
  },
  {
   "cell_type": "code",
   "execution_count": 3,
   "metadata": {
    "collapsed": true
   },
   "outputs": [],
   "source": [
    "#dir_ = '../data/csvs/galaxies/'\n",
    "#path1 = dir_+'all1.csv'\n",
    "#path2 = dir_+'g.csv'\n",
    "#comp = 0;\n",
    "#with open(path1) as f:\n",
    "#   with open(path2,'w') as p2:\n",
    " #       p2.write('')\n",
    "  #  with open(path2,'a') as p2:\n",
    "   #     for a in f.readlines():\n",
    "    #        p2.write(a)\n",
    "     #       if (comp == 2600):\n",
    "      #          break;\n",
    "       #     else:\n",
    "        #        comp = comp + 1"
   ]
  },
  {
   "cell_type": "code",
   "execution_count": 6,
   "metadata": {},
   "outputs": [
    {
     "name": "stdout",
     "output_type": "stream",
     "text": [
      "(None, 8, 8, 32)\n",
      "(None, 8, 8, 32)\n",
      "Ok ....\n",
      "--------------------- End of loading ------------------------------\n",
      "                     |Loss:  68\n",
      "Train on 180 samples, validate on 60 samples\n",
      "Epoch 1/20\n",
      "180/180 [==============================] - 9s 49ms/step - loss: 1.4488 - acc: 0.0000e+00 - val_loss: 204.2206 - val_acc: 0.0000e+00\n",
      "Epoch 2/20\n",
      "180/180 [==============================] - 3s 18ms/step - loss: 12.0260 - acc: 0.0000e+00 - val_loss: 82.6433 - val_acc: 0.0000e+00\n",
      "Epoch 3/20\n",
      "180/180 [==============================] - 4s 21ms/step - loss: 3.9330 - acc: 0.0000e+00 - val_loss: 30.8401 - val_acc: 0.0000e+00\n",
      "Epoch 4/20\n",
      "180/180 [==============================] - 4s 21ms/step - loss: 2.2730 - acc: 0.0000e+00 - val_loss: 11.7808 - val_acc: 0.0000e+00\n",
      "Epoch 5/20\n",
      "180/180 [==============================] - 4s 21ms/step - loss: 1.1738 - acc: 0.0000e+00 - val_loss: 6.2952 - val_acc: 0.0000e+00\n",
      "Epoch 6/20\n",
      "180/180 [==============================] - 4s 20ms/step - loss: 1.0300 - acc: 0.0000e+00 - val_loss: 12.5068 - val_acc: 0.0000e+00\n",
      "Epoch 7/20\n",
      "180/180 [==============================] - 4s 21ms/step - loss: 1.1620 - acc: 0.0000e+00 - val_loss: 6.3892 - val_acc: 0.0000e+00\n",
      "Epoch 8/20\n",
      "180/180 [==============================] - 3s 19ms/step - loss: 1.9166 - acc: 0.0000e+00 - val_loss: 12.6960 - val_acc: 0.0000e+00\n",
      "Epoch 9/20\n",
      "180/180 [==============================] - 4s 21ms/step - loss: 0.9503 - acc: 0.0000e+00 - val_loss: 18.0299 - val_acc: 0.0000e+00\n",
      "Epoch 10/20\n",
      "180/180 [==============================] - 4s 21ms/step - loss: 0.9665 - acc: 0.0000e+00 - val_loss: 11.0582 - val_acc: 0.0000e+00\n",
      "Epoch 11/20\n",
      "180/180 [==============================] - 4s 19ms/step - loss: 0.6817 - acc: 0.0000e+00 - val_loss: 8.1356 - val_acc: 0.0000e+00\n",
      "Epoch 12/20\n",
      "180/180 [==============================] - 3s 18ms/step - loss: 1.0479 - acc: 0.0000e+00 - val_loss: 3.4305 - val_acc: 0.0000e+00\n",
      "Epoch 13/20\n",
      "180/180 [==============================] - 4s 21ms/step - loss: 0.9621 - acc: 0.0000e+00 - val_loss: 1.7669 - val_acc: 0.0167\n",
      "Epoch 14/20\n",
      "180/180 [==============================] - 4s 21ms/step - loss: 0.6637 - acc: 0.0000e+00 - val_loss: 3.1692 - val_acc: 0.0000e+00\n",
      "Epoch 15/20\n",
      "180/180 [==============================] - 4s 21ms/step - loss: 0.8956 - acc: 0.0000e+00 - val_loss: 3.3841 - val_acc: 0.0000e+00\n",
      "Epoch 16/20\n",
      "180/180 [==============================] - 3s 18ms/step - loss: 1.0160 - acc: 0.0000e+00 - val_loss: 1.0560 - val_acc: 0.0167\n",
      "Epoch 17/20\n",
      "180/180 [==============================] - 4s 22ms/step - loss: 0.8995 - acc: 0.0000e+00 - val_loss: 3.0757 - val_acc: 0.0000e+00\n",
      "Epoch 18/20\n",
      "180/180 [==============================] - 4s 22ms/step - loss: 0.8588 - acc: 0.0000e+00 - val_loss: 2.5174 - val_acc: 0.0000e+00\n",
      "Epoch 19/20\n",
      "180/180 [==============================] - 4s 20ms/step - loss: 0.6199 - acc: 0.0000e+00 - val_loss: 0.8572 - val_acc: 0.0000e+00\n",
      "Epoch 20/20\n",
      "180/180 [==============================] - 3s 19ms/step - loss: 0.5324 - acc: 0.0000e+00 - val_loss: 0.6922 - val_acc: 0.0000e+00\n",
      "Saved model to disk\n"
     ]
    },
    {
     "data": {
      "image/png": "[encoded data removed]",
      "text/plain": [
       "<matplotlib.figure.Figure at 0x7fb3d012e6a0>"
      ]
     },
     "metadata": {},
     "output_type": "display_data"
    }
   ],
   "source": [
    "# For max\n",
    "\n",
    "from keras.layers import Flatten, Conv3D, Activation , Dense, AveragePooling2D, MaxPooling3D , Dropout, Conv2D, MaxPooling2D\n",
    "from keras.models import Sequential\n",
    "from utils import *\n",
    "from keras.utils import plot_model\n",
    "\n",
    "model = Sequential()\n",
    "# ------------- start convolution layer ------------------\n",
    "L = Conv2D(32,[3,3], data_format='channels_last', activation = 'relu', padding = 'same', input_shape=(32,32,5))\n",
    "model.add(L)\n",
    "\n",
    "\n",
    "P = MaxPooling2D(pool_size=(2, 2), strides=2, padding='valid', data_format='channels_last')    \n",
    "model.add(P)\n",
    "\n",
    "\n",
    "L1 = Conv2D(32,[3,3], data_format='channels_last', padding = 'same', activation = 'relu')\n",
    "model.add(L1)\n",
    "\n",
    "P1 = MaxPooling2D(pool_size=(2, 2), strides=2, padding='valid', data_format='channels_last')    \n",
    "model.add(P1)\n",
    "\n",
    "\"\"\"\n",
    "L2 = Conv2D(4,[3,3], data_format='channels_last',padding = 'same', activation = 'relu')\n",
    "model.add(L2)\n",
    "\n",
    "P2 = MaxPooling2D(pool_size=(2, 2), strides=2, padding='valid', data_format='channels_last')    \n",
    "model.add(P2)\n",
    "\n",
    "\n",
    "\n",
    "\"\"\"\n",
    "\n",
    "\"\"\"\n",
    "\n",
    "L3 = Conv2D(4,[2,2], data_format='channels_last', activation = 'relu')\n",
    "model.add(L3)\n",
    "\n",
    "P3 = MaxPooling2D(pool_size=(2, 2), strides=1, padding='valid', data_format='channels_last')    \n",
    "model.add(P3)\n",
    "\"\"\"\n",
    "size = model.output_shape\n",
    "print(size)\n",
    "# -------------- start fully connected -------------------\n",
    "\n",
    "model.add(Flatten())\n",
    "model = model_nn(model, size[1]*size[2]*size[3], 5, dropout=0.3, batch_normalization=True, activation='relu', neurons_decay=0, starting_power=1, l2=10**-5, compile_model=True, trainable=True)\n",
    "print(size)\n",
    "print(\"Ok ....\")\n",
    "\n",
    "batch_size = 128\n",
    "data = '../data/csvs/galaxies/all1_.csv';\n",
    "dir_img = '../data/images/galaxies1/all/*.npy'\n",
    "\n",
    "X_Train, Y_Train, X_Test, Y_Test, X_Valid, Y_Valid = get_train_test_valid_data_galaxy(data,dir_img,test_size=0.4, valid_size = 0.5, size_all = 300)\n",
    "\n",
    "history = model.fit(X_Train, Y_Train, validation_data=(X_Valid, Y_Valid), epochs=20, batch_size=batch_size, verbose=1)\n",
    "\n",
    "save_model(model, './model.json')\n",
    "\n",
    "plot_history(history)\n",
    "\n",
    "predict = model.predict(X_Test, batch_size=batch_size).reshape(-1)\n",
    "result = compute_metrics(Y_Test, predict, 'Redshift')     \n",
    "print(result)\n",
    "plot_result(Y_Test, predict)\n"
   ]
  },
  {
   "cell_type": "code",
   "execution_count": 10,
   "metadata": {},
   "outputs": [
    {
     "name": "stdout",
     "output_type": "stream",
     "text": [
      "(None, 8, 8, 32)\n",
      "(None, 8, 8, 32)\n",
      "Ok ....\n",
      "--------------------- End of loading ------------------------------\n",
      "                     |Loss:  68\n",
      "Train on 180 samples, validate on 60 samples\n",
      "Epoch 1/20\n",
      "180/180 [==============================] - 10s 54ms/step - loss: 5.5417 - acc: 0.0000e+00 - val_loss: 60.4282 - val_acc: 0.0000e+00\n",
      "Epoch 2/20\n",
      "180/180 [==============================] - 4s 20ms/step - loss: 9.1117 - acc: 0.0000e+00 - val_loss: 36.3495 - val_acc: 0.0000e+00\n",
      "Epoch 3/20\n",
      "180/180 [==============================] - 3s 19ms/step - loss: 4.8484 - acc: 0.0000e+00 - val_loss: 111.9916 - val_acc: 0.0000e+00\n",
      "Epoch 4/20\n",
      "180/180 [==============================] - 3s 17ms/step - loss: 2.7822 - acc: 0.0056 - val_loss: 10.6572 - val_acc: 0.0000e+00\n",
      "Epoch 5/20\n",
      "180/180 [==============================] - 4s 20ms/step - loss: 1.1594 - acc: 0.0056 - val_loss: 4.8655 - val_acc: 0.0000e+00\n",
      "Epoch 6/20\n",
      "180/180 [==============================] - 3s 19ms/step - loss: 1.2124 - acc: 0.0056 - val_loss: 10.0943 - val_acc: 0.0000e+00\n",
      "Epoch 7/20\n",
      "180/180 [==============================] - 4s 20ms/step - loss: 1.2819 - acc: 0.0056 - val_loss: 6.9126 - val_acc: 0.0000e+00\n",
      "Epoch 8/20\n",
      "180/180 [==============================] - 3s 19ms/step - loss: 0.9375 - acc: 0.0056 - val_loss: 8.3255 - val_acc: 0.0000e+00\n",
      "Epoch 9/20\n",
      "180/180 [==============================] - 4s 20ms/step - loss: 0.8281 - acc: 0.0056 - val_loss: 5.3166 - val_acc: 0.0000e+00\n",
      "Epoch 10/20\n",
      "180/180 [==============================] - 3s 18ms/step - loss: 0.7017 - acc: 0.0056 - val_loss: 3.1502 - val_acc: 0.0000e+00\n",
      "Epoch 11/20\n",
      "180/180 [==============================] - 4s 20ms/step - loss: 0.8989 - acc: 0.0056 - val_loss: 2.7331 - val_acc: 0.0000e+00\n",
      "Epoch 12/20\n",
      "180/180 [==============================] - 3s 18ms/step - loss: 0.5324 - acc: 0.0056 - val_loss: 1.9422 - val_acc: 0.0000e+00\n",
      "Epoch 13/20\n",
      "180/180 [==============================] - 4s 20ms/step - loss: 0.7487 - acc: 0.0056 - val_loss: 1.1000 - val_acc: 0.0000e+00\n",
      "Epoch 14/20\n",
      "180/180 [==============================] - 3s 18ms/step - loss: 0.9167 - acc: 0.0056 - val_loss: 0.9422 - val_acc: 0.0000e+00\n",
      "Epoch 15/20\n",
      "180/180 [==============================] - 3s 19ms/step - loss: 0.5797 - acc: 0.0056 - val_loss: 0.9139 - val_acc: 0.0000e+00\n",
      "Epoch 16/20\n",
      "180/180 [==============================] - 4s 22ms/step - loss: 0.8025 - acc: 0.0056 - val_loss: 1.1232 - val_acc: 0.0000e+00\n",
      "Epoch 17/20\n",
      "180/180 [==============================] - 3s 19ms/step - loss: 0.7869 - acc: 0.0056 - val_loss: 1.1021 - val_acc: 0.0000e+00\n",
      "Epoch 18/20\n",
      "180/180 [==============================] - 3s 19ms/step - loss: 0.7197 - acc: 0.0056 - val_loss: 1.0422 - val_acc: 0.0000e+00\n",
      "Epoch 19/20\n",
      "180/180 [==============================] - 3s 19ms/step - loss: 0.9058 - acc: 0.0056 - val_loss: 1.0441 - val_acc: 0.0000e+00\n",
      "Epoch 20/20\n",
      "180/180 [==============================] - 3s 18ms/step - loss: 0.6139 - acc: 0.0056 - val_loss: 1.0070 - val_acc: 0.0000e+00\n",
      "Saved model to disk\n"
     ]
    },
    {
     "data": {
      "image/png": "[encoded data removed]",
      "text/plain": [
       "<matplotlib.figure.Figure at 0x7fb39f0445f8>"
      ]
     },
     "metadata": {},
     "output_type": "display_data"
    },
    {
     "name": "stdout",
     "output_type": "stream",
     "text": [
      "RMSE_znorm             1.579497\n",
      "bias_znorm             1.575533\n",
      "std_znorm              1.575533\n",
      "RMSE                   1.729153\n",
      "|znorm| > 0.15 (%)    96.666667\n",
      "|znorm| > 3std (%)     1.666667\n",
      "Name: Redshift, dtype: float64\n"
     ]
    },
    {
     "data": {
      "image/png": "[encoded data removed]",
      "text/plain": [
       "<matplotlib.figure.Figure at 0x7fb39ed6eb00>"
      ]
     },
     "metadata": {},
     "output_type": "display_data"
    }
   ],
   "source": [
    "# For max\n",
    "\n",
    "from keras.layers import Flatten, Conv3D, Activation , Dense, AveragePooling2D, MaxPooling3D , Dropout, Conv2D, MaxPooling2D\n",
    "from keras.models import Sequential\n",
    "from utils import *\n",
    "from keras.utils import plot_model\n",
    "\n",
    "model = Sequential()\n",
    "# ------------- start convolution layer ------------------\n",
    "L = Conv2D(32,[3,3], data_format='channels_last', activation = 'tanh', padding = 'same', input_shape=(32,32,5))\n",
    "model.add(L)\n",
    "\n",
    "\n",
    "P = MaxPooling2D(pool_size=(2, 2), strides=2, padding='valid', data_format='channels_last')    \n",
    "model.add(P)\n",
    "\n",
    "\n",
    "L1 = Conv2D(32,[3,3], data_format='channels_last', padding = 'same', activation = 'relu')\n",
    "model.add(L1)\n",
    "\n",
    "P1 = MaxPooling2D(pool_size=(2, 2), strides=2, padding='valid', data_format='channels_last')    \n",
    "model.add(P1)\n",
    "\n",
    "\"\"\"\n",
    "L2 = Conv2D(4,[3,3], data_format='channels_last',padding = 'same', activation = 'relu')\n",
    "model.add(L2)\n",
    "\n",
    "P2 = MaxPooling2D(pool_size=(2, 2), strides=2, padding='valid', data_format='channels_last')    \n",
    "model.add(P2)\n",
    "\n",
    "\n",
    "\n",
    "\"\"\"\n",
    "\n",
    "\"\"\"\n",
    "\n",
    "L3 = Conv2D(4,[2,2], data_format='channels_last', activation = 'relu')\n",
    "model.add(L3)\n",
    "\n",
    "P3 = MaxPooling2D(pool_size=(2, 2), strides=1, padding='valid', data_format='channels_last')    \n",
    "model.add(P3)\n",
    "\"\"\"\n",
    "size = model.output_shape\n",
    "print(size)\n",
    "# -------------- start fully connected -------------------\n",
    "\n",
    "model.add(Flatten())\n",
    "model = model_nn(model, size[1]*size[2]*size[3], 5, dropout=0.3, batch_normalization=True, activation='relu', neurons_decay=0, starting_power=1, l2=10**-5, compile_model=True, trainable=True)\n",
    "print(size)\n",
    "print(\"Ok ....\")\n",
    "\n",
    "batch_size = 128\n",
    "data = '../data/csvs/galaxies/all1_.csv';\n",
    "dir_img = '../data/images/galaxies1/all/*.npy'\n",
    "\n",
    "X_Train, Y_Train, X_Test, Y_Test, X_Valid, Y_Valid = get_train_test_valid_data_galaxy(data,dir_img,test_size=0.4, valid_size = 0.5, size_all = 300)\n",
    "\n",
    "history = model.fit(X_Train, Y_Train, validation_data=(X_Valid, Y_Valid), epochs=20, batch_size=batch_size, verbose=1)\n",
    "\n",
    "save_model(model, './model.json')\n",
    "\n",
    "plot_history(history)\n",
    "\n",
    "predict = model.predict(X_Test, batch_size=batch_size).reshape(-1)\n",
    "result = compute_metrics(Y_Test, predict, 'Redshift')     \n",
    "print(result)\n",
    "plot_result(Y_Test, predict)\n"
   ]
  },
  {
   "cell_type": "code",
   "execution_count": null,
   "metadata": {},
   "outputs": [
    {
     "name": "stdout",
     "output_type": "stream",
     "text": [
      "(None, 8, 8, 32)\n",
      "(None, 8, 8, 32)\n",
      "Ok ....\n",
      "--------------------- End of loading ------------------------------\n",
      "                     |Loss:  68\n",
      "Train on 180 samples, validate on 60 samples\n",
      "Epoch 1/20\n",
      "180/180 [==============================] - 10s 57ms/step - loss: 3.6690 - acc: 0.0000e+00 - val_loss: 326.0930 - val_acc: 0.0000e+00\n",
      "Epoch 2/20\n",
      "180/180 [==============================] - 4s 21ms/step - loss: 12.8479 - acc: 0.0000e+00 - val_loss: 23.9706 - val_acc: 0.0000e+00\n",
      "Epoch 3/20\n",
      "180/180 [==============================] - 3s 19ms/step - loss: 6.7681 - acc: 0.0000e+00 - val_loss: 51.2925 - val_acc: 0.0000e+00\n",
      "Epoch 4/20\n",
      "180/180 [==============================] - 3s 18ms/step - loss: 3.0086 - acc: 0.0000e+00 - val_loss: 36.6493 - val_acc: 0.0000e+00\n",
      "Epoch 5/20\n",
      "180/180 [==============================] - 4s 20ms/step - loss: 1.5077 - acc: 0.0056 - val_loss: 23.0202 - val_acc: 0.0000e+00\n",
      "Epoch 6/20\n",
      "180/180 [==============================] - 3s 19ms/step - loss: 1.6804 - acc: 0.0000e+00 - val_loss: 3.0823 - val_acc: 0.0000e+00\n",
      "Epoch 7/20\n",
      "128/180 [====================>.........] - ETA: 0s - loss: 0.9307 - acc: 0.0000e+00"
     ]
    }
   ],
   "source": [
    "# For max\n",
    "\n",
    "from keras.layers import Flatten, Conv3D, Activation , Dense, AveragePooling2D, MaxPooling3D , Dropout, Conv2D, MaxPooling2D\n",
    "from keras.models import Sequential\n",
    "from utils import *\n",
    "from keras.utils import plot_model\n",
    "\n",
    "model = Sequential()\n",
    "# ------------- start convolution layer ------------------\n",
    "L = Conv2D(32,[3,3], data_format='channels_last', activation = 'relu', padding = 'same', input_shape=(32,32,5))\n",
    "model.add(L)\n",
    "\n",
    "\n",
    "P = MaxPooling2D(pool_size=(2, 2), strides=2, padding='valid', data_format='channels_last')    \n",
    "model.add(P)\n",
    "\n",
    "\n",
    "L1 = Conv2D(32,[3,3], data_format='channels_last', padding = 'same', activation = 'tanh')\n",
    "model.add(L1)\n",
    "\n",
    "P1 = MaxPooling2D(pool_size=(2, 2), strides=2, padding='valid', data_format='channels_last')    \n",
    "model.add(P1)\n",
    "\n",
    "size = model.output_shape\n",
    "print(size)\n",
    "# -------------- start fully connected -------------------\n",
    "\n",
    "model.add(Flatten())\n",
    "model = model_nn(model, size[1]*size[2]*size[3], 5, dropout=0.3, batch_normalization=True, activation='relu', neurons_decay=0, starting_power=1, l2=10**-5, compile_model=True, trainable=True)\n",
    "print(size)\n",
    "print(\"Ok ....\")\n",
    "\n",
    "batch_size = 128\n",
    "data = '../data/csvs/galaxies/all1_.csv';\n",
    "dir_img = '../data/images/galaxies1/all/*.npy'\n",
    "\n",
    "X_Train, Y_Train, X_Test, Y_Test, X_Valid, Y_Valid = get_train_test_valid_data_galaxy(data,dir_img,test_size=0.4, valid_size = 0.5, size_all = 300)\n",
    "\n",
    "history = model.fit(X_Train, Y_Train, validation_data=(X_Valid, Y_Valid), epochs=20, batch_size=batch_size, verbose=1)\n",
    "\n",
    "save_model(model, './model.json')\n",
    "\n",
    "plot_history(history)\n",
    "\n",
    "predict = model.predict(X_Test, batch_size=batch_size).reshape(-1)\n",
    "result = compute_metrics(Y_Test, predict, 'Redshift')     \n",
    "print(result)\n",
    "plot_result(Y_Test, predict)\n"
   ]
  },
  {
   "cell_type": "code",
   "execution_count": null,
   "metadata": {
    "collapsed": true
   },
   "outputs": [],
   "source": []
  },
  {
   "cell_type": "code",
   "execution_count": null,
   "metadata": {
    "collapsed": true
   },
   "outputs": [],
   "source": []
  },
  {
   "cell_type": "code",
   "execution_count": null,
   "metadata": {
    "collapsed": true
   },
   "outputs": [],
   "source": []
  },
  {
   "cell_type": "code",
   "execution_count": null,
   "metadata": {
    "collapsed": true
   },
   "outputs": [],
   "source": []
  },
  {
   "cell_type": "code",
   "execution_count": null,
   "metadata": {
    "collapsed": true
   },
   "outputs": [],
   "source": []
  },
  {
   "cell_type": "code",
   "execution_count": null,
   "metadata": {
    "collapsed": true
   },
   "outputs": [],
   "source": []
  },
  {
   "cell_type": "code",
   "execution_count": null,
   "metadata": {
    "collapsed": true
   },
   "outputs": [],
   "source": []
  },
  {
   "cell_type": "code",
   "execution_count": null,
   "metadata": {
    "collapsed": true
   },
   "outputs": [],
   "source": []
  },
  {
   "cell_type": "code",
   "execution_count": null,
   "metadata": {},
   "outputs": [],
   "source": []
  },
  {
   "cell_type": "code",
   "execution_count": null,
   "metadata": {
    "collapsed": true
   },
   "outputs": [],
   "source": []
  },
  {
   "cell_type": "code",
   "execution_count": null,
   "metadata": {},
   "outputs": [],
   "source": []
  },
  {
   "cell_type": "code",
   "execution_count": null,
   "metadata": {},
   "outputs": [],
   "source": []
  },
  {
   "cell_type": "code",
   "execution_count": null,
   "metadata": {
    "collapsed": true
   },
   "outputs": [],
   "source": []
  }
 ],
 "metadata": {
  "kernelspec": {
   "display_name": "Python 3",
   "language": "python",
   "name": "python3"
  },
  "language_info": {
   "codemirror_mode": {
    "name": "ipython",
    "version": 3
   },
   "file_extension": ".py",
   "mimetype": "text/x-python",
   "name": "python",
   "nbconvert_exporter": "python",
   "pygments_lexer": "ipython3",
   "version": "3.6.3"
  }
 },
 "nbformat": 4,
 "nbformat_minor": 2
}
