{
 "cells": [
  {
   "cell_type": "code",
   "execution_count": 25,
   "metadata": {},
   "outputs": [
    {
     "name": "stdout",
     "output_type": "stream",
     "text": [
      "--------------------- End of loading ------------------------------\n",
      "                     |Loss:  2451\n",
      "trainning ok ...\n",
      "RMSE_znorm            0.072536\n",
      "bias_znorm            0.067135\n",
      "std_znorm             0.067135\n",
      "RMSE                  0.091636\n",
      "|znorm| > 0.15 (%)    3.462921\n",
      "|znorm| > 3std (%)    1.927475\n",
      "Name: Redshift, dtype: float64\n"
     ]
    },
    {
     "data": {
      "image/png": "[encoded data removed]",
      "text/plain": [
       "<matplotlib.figure.Figure at 0x7fb900e597b8>"
      ]
     },
     "metadata": {},
     "output_type": "display_data"
    }
   ],
   "source": [
    "from utils import *\n",
    "from xgboost import XGBRegressor as reg\n",
    "\n",
    "\n",
    "\n",
    "def  objective (y_true, y_pred):\n",
    "    grad = 2*(y_pred - y_true)/(y_true + 1)\n",
    "    hess = 2/(y_true + 1)\n",
    "    return grad, hess\n",
    "\n",
    "\n",
    "file_csv = '../data/csvs/galaxies/all1_.csv';\n",
    "dir_img = '../data/images/galaxies1/all/*.npy'\n",
    "\n",
    "X_Train, Y_Train, X_Test, Y_Test = get_train_test(file_csv, dir_img, test_size = 0.3, size_all = None)\n",
    "\n",
    "train_shape = X_Train.shape\n",
    "train_sample_size = train_shape[0]\n",
    "\n",
    "individu_dim = train_shape[1]*train_shape[2]*train_shape[3]\n",
    "\n",
    "test_sample_size = X_Test.shape[0]\n",
    "\n",
    "X_Train = X_Train.reshape(train_sample_size, individu_dim)\n",
    "X_Test = X_Test.reshape(test_sample_size, individu_dim)\n",
    "\n",
    "\n",
    "model = reg(max_depth=32*32*5, learning_rate=0.01, n_estimators=200, silent=False, objective = objective)\n",
    "\n",
    "model.fit(X_Train, Y_Train)\n",
    "\n",
    "print('trainning ok ...')\n",
    "\n",
    "predict = model.predict(X_Test)\n",
    "result = compute_metrics(Y_Test, predict, 'Redshift')     \n",
    "print(result)\n",
    "plot_result(Y_Test, predict)"
   ]
  },
  {
   "cell_type": "code",
   "execution_count": 23,
   "metadata": {},
   "outputs": [
    {
     "name": "stdout",
     "output_type": "stream",
     "text": [
      "[[ 1  2]\n",
      " [ 3  4]\n",
      " [ 5  6]\n",
      " [10 11]\n",
      " [12 13]\n",
      " [14 15]]\n"
     ]
    }
   ],
   "source": [
    "import numpy as np\n",
    "val = np.array([[[1,2,3], [4,5,6]], [[10,11,12],[13,14,15]]])\n",
    "t = val.shape\n",
    "v = val.reshape(t[1]*t[2]*t[0]//2,2)\n",
    "print(v)\n"
   ]
  },
  {
   "cell_type": "code",
   "execution_count": null,
   "metadata": {
    "collapsed": true
   },
   "outputs": [],
   "source": [
    "trainning ok ...\n",
    "RMSE_znorm            0.072536\n",
    "bias_znorm            0.067135\n",
    "std_znorm             0.067135\n",
    "RMSE                  0.091636\n",
    "|znorm| > 0.15 (%)    3.462921\n",
    "|znorm| > 3std (%)    1.927475\n",
    "Name: Redshift, dtype: float64"
   ]
  },
  {
   "cell_type": "code",
   "execution_count": null,
   "metadata": {
    "collapsed": true
   },
   "outputs": [],
   "source": []
  },
  {
   "cell_type": "code",
   "execution_count": null,
   "metadata": {
    "collapsed": true
   },
   "outputs": [],
   "source": []
  }
 ],
 "metadata": {
  "kernelspec": {
   "display_name": "Python 3",
   "language": "python",
   "name": "python3"
  },
  "language_info": {
   "codemirror_mode": {
    "name": "ipython",
    "version": 3
   },
   "file_extension": ".py",
   "mimetype": "text/x-python",
   "name": "python",
   "nbconvert_exporter": "python",
   "pygments_lexer": "ipython3",
   "version": "3.6.3"
  }
 },
 "nbformat": 4,
 "nbformat_minor": 2
}
