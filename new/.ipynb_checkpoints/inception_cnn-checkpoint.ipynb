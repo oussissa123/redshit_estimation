{
 "cells": [
  {
   "cell_type": "code",
   "execution_count": null,
   "metadata": {},
   "outputs": [
    {
     "name": "stderr",
     "output_type": "stream",
     "text": [
      "Using TensorFlow backend.\n"
     ]
    },
    {
     "name": "stdout",
     "output_type": "stream",
     "text": [
      "------------------------------------------------------------------ starting -----------------\n",
      "(?, 570, 15, 2)\n",
      "(None, 1)\n",
      "Okay ...\n",
      "           |Model built\n",
      "--------------------- End of loading ------------------------------\n",
      "                     |Loss:  2308\n",
      "Train on 7141 samples, validate on 1531 samples\n",
      "Epoch 1/20\n"
     ]
    }
   ],
   "source": [
    "from inception import *\n",
    "from utils import  *\n",
    "\n",
    "print('------------------------------------------------------------------ starting -----------------')\n",
    "batch_size = 128\n",
    "data = '../data/csvs/galaxies/galaxies2.csv';\n",
    "dir_img = '../data/images/galaxies1/all/*.npy'\n",
    "\n",
    "model = get_final_model()\n",
    "\n",
    "print('           |Model built')\n",
    "\n",
    "X_Train, Y_Train, X_Test, Y_Test, X_Valid, Y_Valid = get_train_test_valid_data_galaxy(data,dir_img,test_size=0.3, valid_size = 0.5)\n",
    "\n",
    "\"\"\"\n",
    "history = model.fit(X_Train, Y_Train, validation_data=(X_Valid, Y_Valid), epochs=20, batch_size=batch_size, verbose=1)\n",
    "batch_size = 10#128\n",
    "data = '../data/csvs/galaxies/all1_.csv';\n",
    "dir_img = '../data/images/galaxies1/all'\n",
    "\n",
    "#Saving ploting\n",
    "save_model(model, './model_cnn_inception_module.json')\n",
    "plot_history(history);\n",
    "\n",
    "print('             |Training ok ...')\n",
    "\n",
    "#Testing and ploting of result\n",
    "predict = model.predict(X_Test, batch_size=batch_size).reshape(-1)\n",
    "result = compute_metrics(Y_Test, predict, 'Redshift')     \n",
    "print(result)\n",
    "plot_result(Y_Test, predict)\n",
    "\"\"\"\n",
    "print('----------------------------------------- End ---------------------------------------')"
   ]
  },
  {
   "cell_type": "code",
   "execution_count": 2,
   "metadata": {
    "collapsed": true
   },
   "outputs": [],
   "source": []
  },
  {
   "cell_type": "code",
   "execution_count": null,
   "metadata": {
    "collapsed": true
   },
   "outputs": [],
   "source": []
  },
  {
   "cell_type": "code",
   "execution_count": null,
   "metadata": {
    "collapsed": true
   },
   "outputs": [],
   "source": []
  }
 ],
 "metadata": {
  "kernelspec": {
   "display_name": "Python 3",
   "language": "python",
   "name": "python3"
  },
  "language_info": {
   "codemirror_mode": {
    "name": "ipython",
    "version": 3
   },
   "file_extension": ".py",
   "mimetype": "text/x-python",
   "name": "python",
   "nbconvert_exporter": "python",
   "pygments_lexer": "ipython3",
   "version": "3.6.3"
  }
 },
 "nbformat": 4,
 "nbformat_minor": 2
}
