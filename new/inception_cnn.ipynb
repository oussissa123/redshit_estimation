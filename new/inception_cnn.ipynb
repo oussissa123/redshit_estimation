{
 "cells": [
  {
   "cell_type": "code",
   "execution_count": null,
   "metadata": {},
   "outputs": [
    {
     "name": "stderr",
     "output_type": "stream",
     "text": [
      "Using TensorFlow backend.\n"
     ]
    },
    {
     "name": "stdout",
     "output_type": "stream",
     "text": [
      "------------------------------------------------------------------ starting -----------------\n",
      "(?, 159, 31, 36)\n",
      "(None, 1)\n",
      "Okay ...\n",
      "           |Model built\n",
      "--------------------- End of loading ------------------------------\n",
      "                     |Loss:  2451\n",
      "Train on 7141 samples, validate on 1531 samples\n",
      "Epoch 1/20\n",
      "7141/7141 [==============================] - 257s 36ms/step - loss: 0.6801 - acc: 0.0029 - val_loss: 0.2967 - val_acc: 0.0059\n",
      "Epoch 2/20\n",
      "7141/7141 [==============================] - 250s 35ms/step - loss: 0.4915 - acc: 0.0032 - val_loss: 0.2770 - val_acc: 0.0072\n",
      "Epoch 3/20\n",
      "7141/7141 [==============================] - 256s 36ms/step - loss: 0.3875 - acc: 0.0036 - val_loss: 0.1930 - val_acc: 0.0059\n",
      "Epoch 4/20\n",
      "7141/7141 [==============================] - 267s 37ms/step - loss: 0.3046 - acc: 0.0042 - val_loss: 0.2415 - val_acc: 0.0059\n",
      "Epoch 5/20\n",
      "7141/7141 [==============================] - 266s 37ms/step - loss: 0.2623 - acc: 0.0045 - val_loss: 0.1763 - val_acc: 0.0059\n",
      "Epoch 6/20\n",
      "7141/7141 [==============================] - 266s 37ms/step - loss: 0.2291 - acc: 0.0046 - val_loss: 0.1644 - val_acc: 0.0052\n",
      "Epoch 7/20\n",
      "7141/7141 [==============================] - 258s 36ms/step - loss: 0.1906 - acc: 0.0046 - val_loss: 0.1307 - val_acc: 0.0065\n",
      "Epoch 8/20\n",
      "7141/7141 [==============================] - 271s 38ms/step - loss: 0.1646 - acc: 0.0049 - val_loss: 0.1561 - val_acc: 0.0059\n",
      "Epoch 9/20\n",
      "7141/7141 [==============================] - 261s 37ms/step - loss: 0.1398 - acc: 0.0046 - val_loss: 0.1390 - val_acc: 0.0059\n",
      "Epoch 10/20\n",
      "7141/7141 [==============================] - 255s 36ms/step - loss: 0.1324 - acc: 0.0048 - val_loss: 0.1159 - val_acc: 0.0072\n",
      "Epoch 11/20\n",
      "7040/7141 [============================>.] - ETA: 3s - loss: 0.1206 - acc: 0.0048"
     ]
    }
   ],
   "source": [
    "from inception import *\n",
    "from utils import  *\n",
    "\n",
    "print('------------------------------------------------------------------ starting -----------------')\n",
    "batch_size = 128\n",
    "data = '../data/csvs/galaxies/all1_.csv';\n",
    "dir_img = '../data/images/galaxies1/all/*.npy'\n",
    "\n",
    "model = get_final_model()\n",
    "\n",
    "print('           |Model built')\n",
    "\n",
    "X_Train, Y_Train, X_Test, Y_Test, X_Valid, Y_Valid = get_train_test_valid_data_galaxy(data,dir_img,test_size=0.3, valid_size = 0.5)\n",
    "\n",
    "history = model.fit(X_Train, Y_Train, validation_data=(X_Valid, Y_Valid), epochs=20, batch_size=batch_size, verbose=1)\n",
    "#batch_size = 10#128\n",
    "#data = '../data/csvs/galaxies/all1_.csv';\n",
    "#dir_img = '../data/images/galaxies1/all'\n",
    "\n",
    "#Saving ploting\n",
    "save_model(model, './model_cnn_inception_module.json')\n",
    "plot_history(history);\n",
    "\n",
    "print('             |Training ok ...')\n",
    "\n",
    "#Testing and ploting of result\n",
    "predict = model.predict(X_Test, batch_size=batch_size).reshape(-1)\n",
    "result = compute_metrics(Y_Test, predict, 'Redshift')     \n",
    "print(result)\n",
    "plot_result(Y_Test, predict)\n",
    "\n",
    "print('----------------------------------------- End ---------------------------------------')"
   ]
  },
  {
   "cell_type": "code",
   "execution_count": 2,
   "metadata": {},
   "outputs": [
    {
     "ename": "SyntaxError",
     "evalue": "invalid syntax (<ipython-input-2-a6c8d4be5269>, line 1)",
     "output_type": "error",
     "traceback": [
      "\u001b[0;36m  File \u001b[0;32m\"<ipython-input-2-a6c8d4be5269>\"\u001b[0;36m, line \u001b[0;32m1\u001b[0m\n\u001b[0;31m    RMSE_znorm            0.075899\u001b[0m\n\u001b[0m                                 ^\u001b[0m\n\u001b[0;31mSyntaxError\u001b[0m\u001b[0;31m:\u001b[0m invalid syntax\n"
     ]
    }
   ],
   "source": [
    "RMSE_znorm            0.075899\n",
    "bias_znorm            0.073934\n",
    "std_znorm             0.073934\n",
    "RMSE                  0.095829\n",
    "|znorm| > 0.15 (%)    4.575163\n",
    "|znorm| > 3std (%)    2.418301\n",
    "Name: Redshift, dtype: float64"
   ]
  },
  {
   "cell_type": "code",
   "execution_count": null,
   "metadata": {
    "collapsed": true
   },
   "outputs": [],
   "source": []
  },
  {
   "cell_type": "code",
   "execution_count": null,
   "metadata": {
    "collapsed": true
   },
   "outputs": [],
   "source": []
  }
 ],
 "metadata": {
  "kernelspec": {
   "display_name": "Python 3",
   "language": "python",
   "name": "python3"
  },
  "language_info": {
   "codemirror_mode": {
    "name": "ipython",
    "version": 3
   },
   "file_extension": ".py",
   "mimetype": "text/x-python",
   "name": "python",
   "nbconvert_exporter": "python",
   "pygments_lexer": "ipython3",
   "version": "3.6.3"
  }
 },
 "nbformat": 4,
 "nbformat_minor": 2
}
