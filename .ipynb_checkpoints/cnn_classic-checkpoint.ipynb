{
 "cells": [
  {
   "cell_type": "code",
   "execution_count": 1,
   "metadata": {},
   "outputs": [
    {
     "name": "stderr",
     "output_type": "stream",
     "text": [
      "Using TensorFlow backend.\n"
     ]
    },
    {
     "name": "stdout",
     "output_type": "stream",
     "text": [
      "\n",
      "[{'class_name': 'Conv3D', 'config': {'name': 'conv3d_1', 'trainable': True, 'batch_input_shape': (None, 32, 32, 5, 1), 'dtype': 'float32', 'filters': 5, 'kernel_size': (4, 4, 1), 'strides': (1, 1, 1), 'padding': 'valid', 'data_format': 'channels_last', 'dilation_rate': (1, 1, 1), 'activation': 'relu', 'use_bias': True, 'kernel_initializer': {'class_name': 'VarianceScaling', 'config': {'scale': 1.0, 'mode': 'fan_avg', 'distribution': 'uniform', 'seed': None}}, 'bias_initializer': {'class_name': 'Zeros', 'config': {}}, 'kernel_regularizer': None, 'bias_regularizer': None, 'activity_regularizer': None, 'kernel_constraint': None, 'bias_constraint': None}}, {'class_name': 'MaxPooling3D', 'config': {'name': 'max_pooling3d_1', 'trainable': True, 'pool_size': (2, 2, 2), 'padding': 'valid', 'strides': (2, 2, 2), 'data_format': 'channels_last'}}]\n",
      "\n",
      "\n",
      "[{'class_name': 'Conv3D', 'config': {'name': 'conv3d_1', 'trainable': True, 'batch_input_shape': (None, 32, 32, 5, 1), 'dtype': 'float32', 'filters': 5, 'kernel_size': (4, 4, 1), 'strides': (1, 1, 1), 'padding': 'valid', 'data_format': 'channels_last', 'dilation_rate': (1, 1, 1), 'activation': 'relu', 'use_bias': True, 'kernel_initializer': {'class_name': 'VarianceScaling', 'config': {'scale': 1.0, 'mode': 'fan_avg', 'distribution': 'uniform', 'seed': None}}, 'bias_initializer': {'class_name': 'Zeros', 'config': {}}, 'kernel_regularizer': None, 'bias_regularizer': None, 'activity_regularizer': None, 'kernel_constraint': None, 'bias_constraint': None}}, {'class_name': 'MaxPooling3D', 'config': {'name': 'max_pooling3d_1', 'trainable': True, 'pool_size': (2, 2, 2), 'padding': 'valid', 'strides': (2, 2, 2), 'data_format': 'channels_last'}}, {'class_name': 'Conv3D', 'config': {'name': 'conv3d_2', 'trainable': True, 'filters': 5, 'kernel_size': (3, 3, 1), 'strides': (1, 1, 1), 'padding': 'valid', 'data_format': 'channels_last', 'dilation_rate': (1, 1, 1), 'activation': 'relu', 'use_bias': True, 'kernel_initializer': {'class_name': 'VarianceScaling', 'config': {'scale': 1.0, 'mode': 'fan_avg', 'distribution': 'uniform', 'seed': None}}, 'bias_initializer': {'class_name': 'Zeros', 'config': {}}, 'kernel_regularizer': None, 'bias_regularizer': None, 'activity_regularizer': None, 'kernel_constraint': None, 'bias_constraint': None}}, {'class_name': 'MaxPooling3D', 'config': {'name': 'max_pooling3d_2', 'trainable': True, 'pool_size': (2, 2, 2), 'padding': 'valid', 'strides': (2, 2, 2), 'data_format': 'channels_last'}}]\n",
      "\n"
     ]
    },
    {
     "ename": "NameError",
     "evalue": "name 'model_nn' is not defined",
     "output_type": "error",
     "traceback": [
      "\u001b[0;31m---------------------------------------------------------------------------\u001b[0m",
      "\u001b[0;31mNameError\u001b[0m                                 Traceback (most recent call last)",
      "\u001b[0;32m<ipython-input-1-3563d9704b45>\u001b[0m in \u001b[0;36m<module>\u001b[0;34m()\u001b[0m\n\u001b[1;32m     27\u001b[0m \u001b[0;34m\u001b[0m\u001b[0m\n\u001b[1;32m     28\u001b[0m \u001b[0;31m#full connected layer\u001b[0m\u001b[0;34m\u001b[0m\u001b[0;34m\u001b[0m\u001b[0m\n\u001b[0;32m---> 29\u001b[0;31m model = model_nn(26*26*5, 3, dropout=0.3, batch_normalization=True,\n\u001b[0m\u001b[1;32m     30\u001b[0m             \u001b[0mactivation\u001b[0m\u001b[0;34m=\u001b[0m\u001b[0;34m'relu'\u001b[0m\u001b[0;34m,\u001b[0m \u001b[0mneurons_decay\u001b[0m\u001b[0;34m=\u001b[0m\u001b[0;36m0\u001b[0m\u001b[0;34m,\u001b[0m \u001b[0mstarting_power\u001b[0m\u001b[0;34m=\u001b[0m\u001b[0;36m1\u001b[0m\u001b[0;34m,\u001b[0m \u001b[0ml2\u001b[0m\u001b[0;34m=\u001b[0m\u001b[0;36m10\u001b[0m\u001b[0;34m**\u001b[0m\u001b[0;34m-\u001b[0m\u001b[0;36m5\u001b[0m\u001b[0;34m,\u001b[0m\u001b[0;34m\u001b[0m\u001b[0m\n\u001b[1;32m     31\u001b[0m             compile_model=True, trainable=True, mode = model)\n",
      "\u001b[0;31mNameError\u001b[0m: name 'model_nn' is not defined"
     ]
    }
   ],
   "source": [
    "from keras.layers import Conv3D, Activation , Dense, AveragePooling3D, MaxPooling3D , Dropout, Conv2D\n",
    "from keras.models import Sequential\n",
    "\n",
    "from utils import *\n",
    "\n",
    "#declaring a model\n",
    "model = Sequential()\n",
    "#conv layer 1\n",
    "L = Conv3D(5,[4,4,1], data_format='channels_last', activation = 'relu', input_shape=(32,32,5,1))\n",
    "model.add(L)\n",
    "#pooling\n",
    "P = MaxPooling3D(pool_size=(2, 2, 2), strides=2, padding='valid', data_format='channels_last')    \n",
    "model.add(P)\n",
    "\"\"\"\n",
    "print()\n",
    "print(model.get_config())\n",
    "print()\n",
    "\"\"\"\n",
    "#conv layer 2\n",
    "output = 5\n",
    "L1 = Conv3D(5,[3,3,1], data_format='channels_last', activation = 'relu')\n",
    "model.add(L1)\n",
    "#pooling\n",
    "P1 = MaxPooling3D(pool_size=(2, 2, 2), strides=2, padding='valid', data_format='channels_last')    \n",
    "model.add(P1)\n",
    "\"\"\"\n",
    "print()\n",
    "print(model.get_config())\n",
    "print()\n",
    "\"\"\"\n",
    "#full connected layer\n",
    "model = model_nn(26*26*5, 3, dropout=0.3, batch_normalization=True,\n",
    "            activation='relu', neurons_decay=0, starting_power=1, l2=10**-5,\n",
    "            compile_model=True, trainable=True, mode = model)"
   ]
  },
  {
   "cell_type": "code",
   "execution_count": null,
   "metadata": {
    "collapsed": true
   },
   "outputs": [],
   "source": []
  }
 ],
 "metadata": {
  "kernelspec": {
   "display_name": "Python 3",
   "language": "python",
   "name": "python3"
  },
  "language_info": {
   "codemirror_mode": {
    "name": "ipython",
    "version": 3
   },
   "file_extension": ".py",
   "mimetype": "text/x-python",
   "name": "python",
   "nbconvert_exporter": "python",
   "pygments_lexer": "ipython3",
   "version": "3.6.3"
  }
 },
 "nbformat": 4,
 "nbformat_minor": 2
}
